{
 "cells": [
  {
   "cell_type": "code",
   "execution_count": 1,
   "metadata": {
    "collapsed": false
   },
   "outputs": [
    {
     "name": "stderr",
     "output_type": "stream",
     "text": [
      "/Users/zhangyingying/anaconda/lib/python3.5/site-packages/MDAnalysis/analysis/hbonds/hbond_analysis.py:346: DeprecationWarning: This module is deprecated as of MDAnalysis version 1.0.It will be removed in MDAnalysis version 2.0Please use MDAnalysis.analysis.hydrogenbonds.hbond_analysis instead.\n",
      "  category=DeprecationWarning\n"
     ]
    },
    {
     "name": "stdout",
     "output_type": "stream",
     "text": [
      "1000\n"
     ]
    }
   ],
   "source": [
    "import MDAnalysis\n",
    "import MDAnalysis.analysis.hbonds\n",
    "import pandas as pd\n",
    "import numpy as np\n",
    "\n",
    "from collections import defaultdict \n",
    "import networkx as nx\n",
    "import matplotlib.pyplot as plt\n",
    "import sys\n",
    "sys.setrecursionlimit(1000)\n",
    "print(sys.getrecursionlimit())"
   ]
  },
  {
   "cell_type": "markdown",
   "metadata": {},
   "source": [
    "## Function for graph and finding paths"
   ]
  },
  {
   "cell_type": "code",
   "execution_count": 43,
   "metadata": {
    "collapsed": true
   },
   "outputs": [],
   "source": [
    "def addEdge(graph,u,v): \n",
    "    graph[u].append(v) \n",
    "def find_all_path(graph, start, path, paths):\n",
    "    if len(path) == 6:\n",
    "        return paths.append(list(path))\n",
    "    if len(graph[start]) == 0:\n",
    "        return paths.append(list(path))\n",
    "\n",
    "    for node in graph[start]:\n",
    "        if node in path:\n",
    "                continue\n",
    "        path.append(node)\n",
    "        find_all_path(graph, node, path, paths)\n",
    "        path.pop()"
   ]
  },
  {
   "cell_type": "markdown",
   "metadata": {},
   "source": [
    "## Loading the pdb file or dcd file with psf"
   ]
  },
  {
   "cell_type": "code",
   "execution_count": 2,
   "metadata": {
    "collapsed": false
   },
   "outputs": [],
   "source": [
    "DCD = '/Users/zhangyingying/Dropbox (City College)/Yingying/large_file/new_trajectories_PSII_wt/step7_50.dcd'\n",
    "PDB = '/Users/zhangyingying/Dropbox (City College)/Yingying/large_file/new_trajectories_PSII_wt/frame50_56-stripped.pdb'\n",
    "PSF = '/Users/zhangyingying/Dropbox (City College)/Yingying/large_file/new_trajectories_PSII_wt/step5_charmm2omm_keep.psf'"
   ]
  },
  {
   "cell_type": "markdown",
   "metadata": {},
   "source": [
    "## Get chain name for each atom\n",
    "### For some cases, there are duplicate resname+resid but with different chain name, for distinguishing these different residues, we need to know the chain name"
   ]
  },
  {
   "cell_type": "code",
   "execution_count": 3,
   "metadata": {
    "collapsed": false
   },
   "outputs": [],
   "source": [
    "chain = {}\n",
    "i = 0\n",
    "pdb = open(PDB, 'r')\n",
    "for line in pdb:\n",
    "    if line[0:4] != 'ATOM':\n",
    "        continue\n",
    "    chain[i] = line[21:22]\n",
    "    i += 1\n",
    "print(chain)"
   ]
  },
  {
   "cell_type": "markdown",
   "metadata": {},
   "source": [
    "## Calculate angles and distances for atoms and filter HBs"
   ]
  },
  {
   "cell_type": "code",
   "execution_count": 3,
   "metadata": {
    "collapsed": false
   },
   "outputs": [
    {
     "name": "stderr",
     "output_type": "stream",
     "text": [
      "/Users/zhangyingying/anaconda/lib/python3.5/site-packages/MDAnalysis/topology/guessers.py:80: UserWarning: Failed to guess the mass for the following atom types: M\n",
      "  warnings.warn(\"Failed to guess the mass for the following atom types: {}\".format(atom_type))\n",
      "/Users/zhangyingying/anaconda/lib/python3.5/site-packages/MDAnalysis/topology/PDBParser.py:330: UserWarning: Element information is absent or missing for a few atoms. Elements attributes will not be populated.\n",
      "  warnings.warn(\"Element information is absent or missing for a few \"\n",
      "/Users/zhangyingying/anaconda/lib/python3.5/site-packages/MDAnalysis/analysis/hbonds/hbond_analysis.py:580: DeprecationWarning: This class is deprecated as of MDAnalysis version 1.0 and will be removed in version 2.0.Please use MDAnalysis.analysis.hydrogenbonds.hbond_analysis.HydrogenBondAnalysis instead.\n",
      "  category=DeprecationWarning\n",
      "/Users/zhangyingying/anaconda/lib/python3.5/site-packages/MDAnalysis/coordinates/base.py:865: UserWarning: Reader has no dt information, set to 1.0 ps\n",
      "  warnings.warn(\"Reader has no dt information, set to 1.0 ps\")\n"
     ]
    },
    {
     "name": "stdout",
     "output_type": "stream",
     "text": [
      "   time  donor_index  acceptor_index donor_resnm  donor_resid donor_atom  \\\n",
      "0   0.0           13              20         ASN           12          H   \n",
      "1   0.0           13          127926         ASN           12          H   \n",
      "2   0.0           46          127950         TRP           14          H   \n",
      "3   0.0           56           28536         TRP           14        HE1   \n",
      "4   0.0           70              25         GLU           15          H   \n",
      "5   0.0           85              25         ARG           16          H   \n",
      "6   0.0          129              68         CYS           18          H   \n",
      "7   0.0          129              83         CYS           18          H   \n",
      "8   0.0          129             135         CYS           18          H   \n",
      "9   0.0          136              68         CYS           18         HG   \n",
      "\n",
      "  acceptor_resnm  acceptor_resid acceptor_atom  distance       angle  \n",
      "0            ASN              12           OD1  3.309775   94.632241  \n",
      "1           TIP3           30742           OH2  2.394234  118.093242  \n",
      "2           TIP3           32005           OH2  2.662945  149.125949  \n",
      "3            SER              25            OG  2.011113  145.927014  \n",
      "4            ASN              12             O  2.582404  128.395456  \n",
      "5            ASN              12             O  1.887107  175.984727  \n",
      "6            TRP              14             O  1.884332  156.853694  \n",
      "7            GLU              15             O  2.897370  101.905417  \n",
      "8            CYS              18            SG  3.106368   90.224835  \n",
      "9            TRP              14             O  1.860560  139.995169  \n"
     ]
    }
   ],
   "source": [
    "u = MDAnalysis.Universe(PDB)\n",
    "h3 = MDAnalysis.analysis.hbonds.HydrogenBondAnalysis(u, 'not resname ALA and not resname GLN and not resname GLY and not resname ILE and not resname LEU and not resname PHE and not resname PRO and not resname VAL', \n",
    "                                                          'not resname ALA and not resname GLN and not resname GLY and not resname ILE and not resname LEU and not resname PHE and not resname PRO and not resname VAL', distance=3.5, angle=90.0, acceptors = {'O1', 'O2'})\n",
    "h3.run()\n",
    "h3.generate_table()\n",
    "df3 = pd.DataFrame.from_records(h3.table)\n",
    "h3.generate_table() \n",
    "df3 = pd.DataFrame.from_records(h3.table)\n",
    "print(df3.head(10))"
   ]
  },
  {
   "cell_type": "code",
   "execution_count": 4,
   "metadata": {
    "collapsed": true
   },
   "outputs": [],
   "source": [
    "df3.to_csv('/Users/zhangyingying/Dropbox (City College)/Yingying/PSII/quinone/hb_network/1000ns_connection_his252sele.csv')"
   ]
  },
  {
   "cell_type": "markdown",
   "metadata": {},
   "source": [
    "## Give chain names for protein and index for water molecules"
   ]
  },
  {
   "cell_type": "code",
   "execution_count": 23,
   "metadata": {
    "collapsed": false
   },
   "outputs": [
    {
     "name": "stdout",
     "output_type": "stream",
     "text": [
      "   time  donor_index  acceptor_index donor_resnm  donor_resid donor_atom  \\\n",
      "0   0.0           13              20         ASN           12          H   \n",
      "1   0.0           13          127926         ASN           12          H   \n",
      "2   0.0           46          127950         TRP           14          H   \n",
      "3   0.0           56           28536         TRP           14        HE1   \n",
      "4   0.0           70              25         GLU           15          H   \n",
      "5   0.0           85              25         ARG           16          H   \n",
      "6   0.0          129              68         CYS           18          H   \n",
      "7   0.0          129              83         CYS           18          H   \n",
      "8   0.0          129             135         CYS           18          H   \n",
      "9   0.0          136              68         CYS           18         HG   \n",
      "\n",
      "  acceptor_resnm  acceptor_resid acceptor_atom  distance       angle  \\\n",
      "0            ASN              12           OD1  3.309775   94.632241   \n",
      "1           TIP3           30742           OH2  2.394234  118.093242   \n",
      "2           TIP3           32005           OH2  2.662945  149.125949   \n",
      "3            SER              25            OG  2.011113  145.927014   \n",
      "4            ASN              12             O  2.582404  128.395456   \n",
      "5            ASN              12             O  1.887107  175.984727   \n",
      "6            TRP              14             O  1.884332  156.853694   \n",
      "7            GLU              15             O  2.897370  101.905417   \n",
      "8            CYS              18            SG  3.106368   90.224835   \n",
      "9            TRP              14             O  1.860560  139.995169   \n",
      "\n",
      "  donor_residue acceptor_residue  \n",
      "0      ASN_A_12         ASN_A_12  \n",
      "1      ASN_A_12      TIP3_127926  \n",
      "2      TRP_A_14      TIP3_127950  \n",
      "3      TRP_A_14         SER_H_25  \n",
      "4      GLU_A_15         ASN_A_12  \n",
      "5      ARG_A_16         ASN_A_12  \n",
      "6      CYS_A_18         TRP_A_14  \n",
      "7      CYS_A_18         GLU_A_15  \n",
      "8      CYS_A_18         CYS_A_18  \n",
      "9      CYS_A_18         TRP_A_14  \n"
     ]
    }
   ],
   "source": [
    "index_donor = []\n",
    "index_accept = []\n",
    "for index2, row2 in df3.iterrows():\n",
    "    if row2['donor_resnm'] == 'TIP3'and row2['acceptor_resnm'] != 'TIP3':\n",
    "        if row2['donor_atom'] == 'H1':\n",
    "            index_donor.append(row2['donor_resnm'] + '_' + str(row2['donor_index']-1))\n",
    "            index_accept.append(row2['acceptor_resnm'] + '_' + chain[row2['acceptor_index']] + '_' + str(row2['acceptor_resid']))\n",
    "        if row2['donor_atom'] == 'H2':\n",
    "            index_donor.append(row2['donor_resnm'] + '_' + str(row2['donor_index']-2))\n",
    "            index_accept.append(row2['acceptor_resnm'] + '_' + chain[row2['acceptor_index']] + '_' + str(row2['acceptor_resid'])) \n",
    "\n",
    "    elif row2['acceptor_resnm'] == 'TIP3' and row2['donor_resnm'] != 'TIP3':\n",
    "        index_accept.append(row2['acceptor_resnm'] + '_' + str(row2['acceptor_index']))\n",
    "        index_donor.append(row2['donor_resnm'] + '_' + chain[row2['donor_index']] + '_' + str(row2['donor_resid']))\n",
    "    elif row2['acceptor_resnm'] == 'TIP3' and row2['donor_resnm'] == 'TIP3':\n",
    "        if row2['donor_atom'] == 'H1':\n",
    "            index_donor.append(row2['donor_resnm'] + '_' + str(row2['donor_index']-1))\n",
    "            index_accept.append(row2['acceptor_resnm'] + '_' + str(row2['acceptor_index']))\n",
    "        if row2['donor_atom'] == 'H2':\n",
    "            index_donor.append(row2['donor_resnm'] + '_' + str(row2['donor_index']-2))\n",
    "            index_accept.append(row2['acceptor_resnm'] + '_' + str(row2['acceptor_index']))\n",
    "    else:\n",
    "        index_donor.append(row2['donor_resnm'] + '_' + chain[row2['donor_index']] + '_' + str(row2['donor_resid']))\n",
    "        index_accept.append(row2['acceptor_resnm'] + '_' + chain[row2['acceptor_index']] + '_' + str(row2['acceptor_resid']))\n",
    "df3['donor_residue'] = index_donor\n",
    "df3['acceptor_residue'] = index_accept\n",
    "print(df3.head(10))"
   ]
  },
  {
   "cell_type": "markdown",
   "metadata": {},
   "source": [
    "## Filter the sidechain hydrogen bond (hide the backbone HBs)"
   ]
  },
  {
   "cell_type": "code",
   "execution_count": 25,
   "metadata": {
    "collapsed": false
   },
   "outputs": [
    {
     "name": "stdout",
     "output_type": "stream",
     "text": [
      "  acceptor_atom acceptor_residue donor_atom donor_residue\n",
      "0            OG         SER_H_25        HE1      TRP_A_14\n",
      "1           OD1         ASN_A_26        HE1      TRP_A_20\n",
      "2           OH2       TIP3_47469       HD21      ASN_A_26\n",
      "3           OH2      TIP3_127254       HH11      ARG_A_27\n",
      "4           OH2      TIP3_127353       HH11      ARG_A_27\n",
      "5           OH2      TIP3_127254       HH12      ARG_A_27\n",
      "6           OH2      TIP3_128304       HH12      ARG_A_27\n",
      "7           OH2      TIP3_128304       HH22      ARG_A_27\n",
      "8           OE1        GLU_A_132         HH      TYR_A_29\n",
      "9           OE2        GLU_A_132         HH      TYR_A_29\n"
     ]
    }
   ],
   "source": [
    "hb = pd.DataFrame()\n",
    "dic_hdonnor = {'ASP':['HD1', 'HD2'], 'ARG': ['HH11', 'HH12', 'HH21', 'HH22', 'HE'], 'GLU':['HE1', 'HE2'], 'HIS':['HD1', 'HE2'], 'HSD':['HD1', 'HE2'], 'HSE':['HD1', 'HE2'], 'HSP':['HD1', 'HE2'],\n",
    "                'SER':['HG'], 'THR':['HG1'], 'ASN':['HD21', 'HD22'], 'GLN':['HE21', 'HE22'], 'CYS':['HG'], 'TYR':['HH'], 'TRP':['HE1'], 'LYS':['HZ1', 'HZ2', 'HZ3'], 'TIP3':['H1', 'H2'], 'HOH':['1H', '2H']}\n",
    "dic_accept = {'ASP':['OD1', 'OD2'], 'HCO': ['OC1', 'OC2'], 'ARG': ['NE', 'NH1', 'NH2'], 'GLU':['OE1', 'OE2'], 'HSD':['ND1', 'NE2'], 'HSE':['ND1', 'NE2'], 'HSP':['ND1', 'NE2'], 'HIS':['ND1', 'NE2'],\n",
    "                'SER':['OG'], 'THR':['OG1'], 'ASN':['OD1'], 'GLN':['OE1'], 'CYS':['SG'], 'TYR':['OH'], 'LYS':['NZ'], 'MET':['SD'], 'CLX':['CLX'], 'CLA':['CLA'], 'OX2':['OX2'], 'PL9':['O1', 'O2'], 'FX':['FX'], 'TIP3':['OH2'], 'HOH':['O'], 'MQ8':['O1', 'O2']}\n",
    "donor_residue_pick = []\n",
    "acceptor_residue_pick = []\n",
    "donor_atom_pick = []\n",
    "acceptor_atom_pick = []\n",
    "for index, row in df3.iterrows():\n",
    "    if row['donor_resnm'] in dic_hdonnor.keys() and row['acceptor_resnm'] in dic_accept.keys():\n",
    "        if row['donor_atom'] in dic_hdonnor[row['donor_resnm']] and row['acceptor_atom'] in dic_accept[row['acceptor_resnm']]:\n",
    "            donor_residue_pick.append(row['donor_residue'])\n",
    "            acceptor_residue_pick.append(row['acceptor_residue'])\n",
    "            donor_atom_pick.append(row['donor_atom'])\n",
    "            acceptor_atom_pick.append(row['acceptor_atom'])\n",
    "    else:\n",
    "        continue\n",
    "# all connection network\n",
    "hb_two = pd.DataFrame({'donor_residue':donor_residue_pick, 'donor_atom':donor_atom_pick, 'acceptor_residue':acceptor_residue_pick, 'acceptor_atom':acceptor_atom_pick})\n",
    "print(hb_two.head(10))"
   ]
  },
  {
   "cell_type": "markdown",
   "metadata": {},
   "source": [
    "## Divide all connections to two groups: directly connection, connection via water molecules"
   ]
  },
  {
   "cell_type": "code",
   "execution_count": 26,
   "metadata": {
    "collapsed": false
   },
   "outputs": [
    {
     "name": "stdout",
     "output_type": "stream",
     "text": [
      "Direct connection: 303\n",
      "Connection with water: 2691\n"
     ]
    }
   ],
   "source": [
    "donor_residue = []\n",
    "acceptor_residue = []\n",
    "donor_residue2 = []\n",
    "acceptor_residue2 = []\n",
    "for row in range(len(hb_two)):\n",
    "    if hb_two['donor_residue'][row][0:3] != 'TIP' and hb_two['acceptor_residue'][row][0:3] != 'TIP': \n",
    "        if hb_two['donor_residue'][row] == hb_two['acceptor_residue'][row]:\n",
    "            continue\n",
    "        else:\n",
    "            donor_residue.append(hb_two['donor_residue'][row])\n",
    "            acceptor_residue.append(hb_two['acceptor_residue'][row])\n",
    "    else:\n",
    "        if hb_two['donor_residue'][row] == hb_two['acceptor_residue'][row]:\n",
    "            continue\n",
    "        else:\n",
    "            donor_residue2.append(hb_two['donor_residue'][row])\n",
    "            acceptor_residue2.append(hb_two['acceptor_residue'][row])\n",
    "dire_con = pd.DataFrame({'donor_residue': donor_residue, 'acceptor_residue': acceptor_residue, 'wat_num': [0]*len(donor_residue)})\n",
    "wat_con = pd.DataFrame({'donor_residue': donor_residue2, 'acceptor_residue': acceptor_residue2})\n",
    "\n",
    "# connection via water\n",
    "wat_con = wat_con.drop_duplicates()\n",
    "wat_con.index = range(0, len(wat_con))\n",
    "\n",
    "# direct connection\n",
    "dire_con = dire_con.drop_duplicates()\n",
    "dire_con.index = range(0, len(dire_con))\n",
    "print('Direct connection:', len(dire_con))\n",
    "print('Connection with water:', len(wat_con))"
   ]
  },
  {
   "cell_type": "markdown",
   "metadata": {},
   "source": [
    "## Build graph for the connction via water"
   ]
  },
  {
   "cell_type": "code",
   "execution_count": 39,
   "metadata": {
    "collapsed": false
   },
   "outputs": [
    {
     "name": "stdout",
     "output_type": "stream",
     "text": [
      "defaultdict(<class 'list'>, {'TIP3_128523': ['TIP3_127788', 'TIP3_129585'], 'TIP3_129054': ['TIP3_129312', 'TIP3_130125'], 'TIP3_129462': ['ASP_M_169', 'TIP3_128106', 'TIP3_129702', 'TIP3_128775', 'TIP3_129048'], 'TIP3_128214': ['TIP3_127143', 'TIP3_127917', 'ASP_B_276'], 'SER_M_221': ['TIP3_130044'], 'TIP3_127257': ['TIP3_127887', 'TIP3_127836'], 'TIP3_128514': ['TIP3_129528'], 'LYS_B_373': ['TIP3_128022'], 'TIP3_47751': ['THR_C_158'], 'TIP3_47754': ['TIP3_47733'], 'ARG_A_129': ['TIP3_47466'], 'TIP3_47490': ['ASP_A_308', 'TIP3_129336'], 'ARG_P_31': ['TIP3_128895', 'TIP3_129561'], 'TIP3_128997': ['ASP_M_205', 'GLU_M_210'], 'ASN_A_303': ['TIP3_47538', 'TIP3_47586'], 'TIP3_47550': ['ASP_A_61', 'TIP3_47517', 'TIP3_47574'], 'SER_B_391': ['TIP3_129015'], 'TIP3_129147': ['TIP3_127164', 'TIP3_129192', 'TIP3_128190', 'TIP3_129069', 'TIP3_129270'], 'HIS_M_228': ['TIP3_128223', 'TIP3_130044'], 'TIP3_129765': ['TIP3_129846'], 'TIP3_129216': ['GLU_C_413'], 'TIP3_128037': ['TIP3_127794', 'TIP3_128184', 'GLU_H_38'], 'TIP3_47505': ['GLU_A_132'], 'SER_C_46': ['TIP3_127317'], 'TIP3_129504': ['TIP3_128379'], 'TIP3_128124': ['TIP3_130116', 'TIP3_47691'], 'TIP3_128886': ['TIP3_129177', 'ASP_D_333', 'TIP3_128112'], 'ASN_D_292': ['TIP3_130167', 'TIP3_129075'], 'TIP3_127719': ['TIP3_128505'], 'TIP3_128049': ['TIP3_127983'], 'TIP3_127254': ['TIP3_128304', 'TIP3_129822', 'TIP3_127497', 'TIP3_127788'], 'TIP3_129885': ['GLU_A_226'], 'THR_M_107': ['TIP3_47610'], 'TIP3_127455': ['TIP3_127773', 'GLU_G_47', 'TIP3_127863'], 'TIP3_127242': ['TIP3_128625', 'TIP3_129615', 'ASN_C_228', 'TIP3_128592', 'TIP3_128694'], 'ARG_B_476': ['TIP3_128388'], 'THR_F_17': ['TIP3_127806', 'TIP3_130017'], 'TIP3_129795': ['HIS_D_336', 'TIP3_127281', 'TIP3_127842'], 'TIP3_127527': ['GLU_C_269', 'HIS_C_444'], 'TIP3_128721': ['TIP3_127524'], 'TIP3_128328': ['TIP3_128541', 'TIP3_129423'], 'TIP3_129141': ['TIP3_127641', 'TIP3_129747'], 'SER_B_446': ['TIP3_47649'], 'TYR_A_246': ['TIP3_129918'], 'TYR_M_7': ['TIP3_129351', 'TIP3_129969'], 'TIP3_127779': ['TIP3_127890', 'TIP3_47745'], 'TIP3_127560': ['TIP3_129129', 'THR_C_397'], 'TIP3_128403': ['TYR_B_258', 'HIS_D_87'], 'TIP3_127176': ['TIP3_47604', 'TIP3_130122'], 'LYS_B_137': ['TIP3_129438', 'TIP3_129840'], 'TIP3_47439': ['TIP3_47472', 'TIP3_47487', 'TIP3_47529'], 'ASN_A_247': ['TIP3_128415', 'TIP3_129024'], 'TIP3_128448': ['TIP3_129960'], 'TIP3_129096': ['SER_B_291'], 'TIP3_129864': ['ASP_B_313'], 'ARG_B_422': ['TIP3_128775', 'TIP3_128901', 'TIP3_129498', 'TIP3_127320', 'TIP3_128799'], 'TIP3_127461': ['TIP3_129549', 'TIP3_127401', 'TIP3_127500'], 'ARG_D_251': ['TIP3_127743', 'TIP3_128358', 'TIP3_127815', 'TIP3_128970', 'TIP3_128766'], 'TIP3_129792': ['TIP3_129993'], 'TIP3_128772': ['TIP3_129777', 'TIP3_127596'], 'SER_M_191': ['TIP3_127902'], 'THR_C_335': ['TIP3_47718'], 'TIP3_129039': ['TYR_P_35', 'TIP3_127995'], 'THR_G_5': ['TIP3_129114'], 'LYS_A_310': ['TIP3_127488', 'TIP3_127971'], 'TIP3_127344': ['TIP3_127677', 'TIP3_129675', 'TIP3_127338'], 'TIP3_129705': ['ASN_A_315', 'TIP3_129681'], 'TIP3_128415': ['TIP3_127590'], 'TIP3_130029': ['TIP3_127662'], 'ARG_A_334': ['TIP3_47886', 'TIP3_128532', 'TIP3_47547', 'TIP3_128634', 'TIP3_47484', 'TIP3_127425'], 'TIP3_47838': ['TIP3_47817', 'TIP3_47877'], 'TRP_C_425': ['TIP3_129030'], 'TIP3_127542': ['TYR_P_137'], 'ARG_J_46': ['TIP3_128934', 'TIP3_129249', 'TIP3_128400'], 'TIP3_127425': ['TIP3_128208', 'TIP3_128634', 'TIP3_129417', 'GLU_A_65'], 'TIP3_129693': ['TIP3_128127'], 'TIP3_128592': ['ASN_C_228', 'TIP3_128976', 'TIP3_129615'], 'TIP3_127548': ['TIP3_127632', 'TIP3_128412'], 'TIP3_127653': ['TIP3_127137'], 'TIP3_127449': ['TYR_P_26', 'GLU_P_122', 'TIP3_128259', 'TIP3_128469'], 'TIP3_128796': ['TIP3_127653', 'TIP3_127386', 'TIP3_128148', 'TIP3_128331'], 'TIP3_129822': ['ASP_C_473', 'TIP3_127254', 'TIP3_127497', 'TIP3_128358'], 'TIP3_129621': ['TIP3_129921', 'TIP3_129288'], 'SER_I_38': ['TIP3_127566'], 'TIP3_128634': ['GLU_D_312', 'TIP3_128532'], 'ARG_A_323': ['TIP3_129927', 'TIP3_130170'], 'THR_M_153': ['TIP3_128622'], 'TIP3_128220': ['TIP3_128421', 'TIP3_128763'], 'ARG_Q_42': ['TIP3_127578', 'TIP3_128826'], 'TIP3_127788': ['TIP3_127254', 'TIP3_127497', 'TIP3_128565', 'TIP3_127947'], 'TIP3_129789': ['TIP3_128628'], 'TIP3_127182': ['TIP3_127467', 'TIP3_127923'], 'TIP3_47694': ['ASP_B_334', 'TIP3_47685'], 'TIP3_128487': ['ASP_C_376', 'TIP3_127269', 'TIP3_128526'], 'TIP3_128808': ['TIP3_130071'], 'HIS_D_197': ['TIP3_47814'], 'TIP3_129327': ['TIP3_128259', 'TIP3_128637', 'GLU_P_122', 'TIP3_127464'], 'TIP3_127215': ['HIS_D_61', 'TIP3_127593', 'TIP3_128028'], 'TYR_C_302': ['TIP3_47778'], 'TIP3_127854': ['ASP_D_297', 'TIP3_129003', 'TIP3_129744'], 'TIP3_128775': ['TIP3_128901', 'TIP3_129543', 'ASP_M_169', 'TIP3_129048', 'TIP3_129462'], 'ASN_H_31': ['TIP3_128955'], 'TIP3_128790': ['TIP3_128085', 'TIP3_127587'], 'TIP3_128616': ['TIP3_128832', 'TIP3_127140', 'TIP3_129432'], 'TIP3_47595': ['TIP3_47712', 'TIP3_47592'], 'TIP3_128763': ['TIP3_127341', 'TIP3_129585'], 'TIP3_130164': ['TYR_E_56'], 'TIP3_127338': ['TIP3_128151', 'TIP3_127677'], 'TIP3_127368': ['TIP3_127722', 'TIP3_128841'], 'TIP3_127185': ['TIP3_129171', 'TIP3_127956'], 'TIP3_128655': ['TIP3_130137', 'TIP3_128340'], 'TIP3_47565': ['TIP3_129723'], 'TIP3_127158': ['ASP_P_53'], 'TIP3_129117': ['GLU_C_71', 'TIP3_129291', 'TIP3_129909'], 'TIP3_127281': ['TIP3_129903', 'TIP3_130083'], 'TIP3_128604': ['TIP3_127206', 'TIP3_127776', 'ASN_A_108', 'TIP3_128142', 'TIP3_129111'], 'TIP3_127521': ['TIP3_127458', 'TIP3_127557', 'TIP3_129654'], 'THR_D_60': ['TIP3_47853'], 'ASN_D_263': ['TIP3_129384', 'TIP3_129759'], 'TIP3_128409': ['SER_D_300', 'GLU_N_2', 'TIP3_127914'], 'TIP3_129153': ['TIP3_127719', 'TIP3_129555'], 'LYS_H_33': ['TIP3_127539'], 'TIP3_128709': ['ASP_C_187', 'TIP3_127851', 'TIP3_130095'], 'TIP3_128541': ['TIP3_128328', 'TIP3_129546'], 'TIP3_128631': ['TIP3_127500', 'TIP3_129078', 'SER_D_230', 'TIP3_127461'], 'TIP3_127407': ['TIP3_127128', 'TIP3_127227', 'TIP3_128742', 'TIP3_129843', 'GLU_C_394'], 'TIP3_127575': ['TIP3_129942', 'TIP3_127230', 'TIP3_128364'], 'TRP_B_468': ['TIP3_127680', 'TIP3_130125'], 'THR_M_208': ['TIP3_128682'], 'TIP3_127749': ['TIP3_127845', 'TIP3_128196', 'TIP3_129159', 'GLU_C_300'], 'TIP3_129519': ['TIP3_127410', 'TIP3_127656'], 'ARG_D_348': ['TIP3_127659', 'TIP3_127929', 'TIP3_128457'], 'TIP3_47934': ['TIP3_127167', 'TIP3_129852'], 'TIP3_47574': ['ASP_A_61', 'TIP3_47550', 'TIP3_47559'], 'TIP3_128847': ['TIP3_128592', 'TIP3_128694', 'TIP3_129834'], 'TIP3_130014': ['TIP3_128904', 'TIP3_127263'], 'TIP3_47784': ['TIP3_127998', 'TIP3_128685', 'TIP3_130104', 'TIP3_128397'], 'TIP3_47700': ['SER_B_241', 'SER_B_240'], 'TIP3_129363': ['TIP3_127995', 'TIP3_129513'], 'TIP3_127872': ['TIP3_128166', 'TIP3_129333'], 'TIP3_129714': ['TIP3_128562'], 'TIP3_128400': ['TIP3_128619'], 'SER_C_344': ['TIP3_129735'], 'SER_B_291': ['TIP3_129096'], 'TIP3_127551': ['TIP3_129102', 'TIP3_127599', 'TIP3_129471'], 'TIP3_129591': ['ASP_C_360', 'TIP3_130149', 'TIP3_127389', 'TIP3_129621', 'TIP3_129636'], 'TIP3_128340': ['ASP_P_53', 'THR_P_58'], 'TIP3_127251': ['TIP3_128778', 'ASP_M_79', 'TIP3_127269'], 'TIP3_128142': ['TIP3_129852', 'TIP3_128604', 'TIP3_129111'], 'TIP3_129492': ['GLU_P_90'], 'ASN_A_26': ['TIP3_47469'], 'TIP3_127740': ['TIP3_130149'], 'TIP3_127785': ['GLU_O_93', 'TIP3_127569'], 'TIP3_128199': ['TIP3_129291'], 'TIP3_128343': ['SER_P_39', 'TIP3_127122', 'TIP3_128349', 'TIP3_130005'], 'TIP3_47451': ['SER_A_134', 'TIP3_47520', 'CYS_A_144'], 'TIP3_129048': ['ASP_O_14', 'TIP3_127398', 'TIP3_128898', 'ASP_M_169', 'TIP3_129543', 'TIP3_129702'], 'TIP3_127323': ['TIP3_129966'], 'TIP3_128694': ['TIP3_127242', 'TIP3_128592', 'TIP3_128847', 'TIP3_128976'], 'ASN_D_220': ['TIP3_128190', 'TIP3_129318'], 'TIP3_47775': ['TIP3_47772'], 'TIP3_128130': ['ASP_G_9', 'TIP3_129957'], 'TIP3_129234': ['GLU_B_387', 'TIP3_128580'], 'ASN_A_267': ['TIP3_129033'], 'TIP3_128370': ['TIP3_128733', 'THR_B_255'], 'TIP3_130155': ['TIP3_127908'], 'TIP3_127791': ['TIP3_127218', 'TIP3_47937', 'TIP3_127821'], 'SER_K_16': ['TIP3_127869'], 'TIP3_129858': ['TIP3_128877'], 'TIP3_129501': ['GLU_D_302', 'TIP3_128007', 'TIP3_127812', 'TIP3_128397'], 'TIP3_128646': ['ASP_T_2', 'TIP3_127434'], 'TIP3_128391': ['GLU_D_242', 'TIP3_127473', 'TIP3_130002', 'SER_D_245', 'TIP3_127689'], 'TIP3_128466': ['ASP_O_96', 'TIP3_128622', 'TIP3_128949', 'ASN_M_155'], 'TIP3_127656': ['TIP3_127305', 'TIP3_127362', 'TIP3_127410', 'TIP3_128922', 'TIP3_129519'], 'ARG_B_57': ['TIP3_127905', 'TIP3_47685'], 'TIP3_129651': ['TIP3_128307', 'TIP3_128955'], 'TIP3_127194': ['THR_M_75'], 'TIP3_47766': ['THR_C_335', 'TIP3_47718', 'TIP3_128730'], 'TIP3_47622': ['TIP3_128898', 'TIP3_129945', 'GLU_B_393', 'TIP3_129015'], 'TIP3_47799': ['TIP3_129075', 'GLU_B_364'], 'TYR_O_38': ['TIP3_129603'], 'ARG_P_105': ['TIP3_128817', 'TIP3_128892', 'TIP3_128961'], 'TIP3_47544': ['ASN_A_303', 'TIP3_47538'], 'ASN_O_100': ['TIP3_128082', 'TIP3_128580', 'TIP3_127230'], 'TIP3_128103': ['TYR_A_107'], 'TIP3_128853': ['TIP3_128475', 'HIS_B_343', 'GLU_B_428', 'TIP3_129558'], 'TIP3_47535': ['TIP3_47460'], 'TIP3_129615': ['TIP3_128019', 'TIP3_129414', 'TIP3_127389', 'TIP3_128976'], 'TIP3_129840': ['TIP3_127173', 'TIP3_129240'], 'TIP3_128073': ['TIP3_127614', 'GLU_B_364', 'TIP3_127359', 'TIP3_128451'], 'TIP3_129720': ['TIP3_128784', 'TIP3_129489', 'TIP3_127893'], 'ASN_C_415': ['TIP3_128319', 'TIP3_129897'], 'TIP3_128463': ['TIP3_129138'], 'TIP3_127770': ['TIP3_128070'], 'TIP3_129357': ['TIP3_128373', 'TIP3_127344', 'TIP3_129675'], 'LYS_M_188': ['TIP3_47919', 'TIP3_47943'], 'TIP3_128841': ['TIP3_127857', 'TIP3_127722', 'TIP3_129570'], 'TIP3_129183': ['ASP_M_223', 'TIP3_127515', 'TIP3_129399', 'SER_M_191', 'TIP3_127902'], 'TIP3_127638': ['TIP3_129963'], 'TRP_B_493': ['TIP3_47859', 'TIP3_129150'], 'TIP3_47781': ['TIP3_127554'], 'TIP3_47592': ['TIP3_127992'], 'TIP3_128217': ['TIP3_129579', 'TIP3_129906', 'TIP3_129456'], 'TIP3_128526': ['TIP3_129465', 'TIP3_127269'], 'TIP3_127887': ['GLU_M_179', 'SER_M_170'], 'TIP3_47571': ['TIP3_47532', 'TIP3_47856', 'ASP_A_170', 'TIP3_47535', 'TIP3_47556'], 'HIS_A_92': ['TIP3_128241'], 'THR_K_15': ['TIP3_127869'], 'TIP3_127278': ['GLU_C_71', 'TIP3_128433', 'TIP3_129117'], 'TIP3_129951': ['TIP3_127284', 'TIP3_130053', 'ASP_A_103', 'TIP3_127152', 'TIP3_129846'], 'TIP3_127440': ['TIP3_128652', 'TIP3_129567'], 'TIP3_128202': ['TIP3_130116', 'TIP3_127257', 'TIP3_127836'], 'TYR_D_160': ['TIP3_47787'], 'TIP3_127617': ['THR_B_81', 'TIP3_128838'], 'TIP3_128430': ['TIP3_47670', 'ASP_B_313'], 'TIP3_127233': ['TIP3_127941'], 'TIP3_128088': ['TIP3_47637', 'TIP3_47613'], 'TIP3_128676': ['TIP3_129906', 'TIP3_127656'], 'TIP3_129978': ['GLU_B_492'], 'TIP3_129345': ['TIP3_127962'], 'TIP3_129318': ['TIP3_128190', 'GLU_D_219', 'TIP3_129192'], 'TYR_D_296': ['TIP3_128685'], 'LYS_O_104': ['TIP3_127158', 'TIP3_129564', 'TIP3_128655'], 'TIP3_127161': ['SER_C_416', 'TIP3_127464', 'TIP3_128637'], 'TIP3_129294': ['SER_D_88', 'GLU_D_96', 'THR_G_52'], 'TIP3_128313': ['TIP3_130038', 'TIP3_129327'], 'TIP3_128406': ['TIP3_127149', 'TIP3_127596', 'TIP3_128772', 'TIP3_130011'], 'THR_C_346': ['TIP3_129735'], 'SER_D_300': ['TIP3_127914'], 'TIP3_47601': ['TIP3_47823', 'TIP3_47835'], 'ARG_F_19': ['TIP3_129387', 'TIP3_128505'], 'TIP3_129336': ['ASN_A_312', 'TIP3_127971', 'ASP_A_308', 'TIP3_47490'], 'TIP3_127413': ['TIP3_129054'], 'TIP3_128580': ['TIP3_127326', 'GLU_B_387', 'TIP3_129228'], 'TIP3_128652': ['TIP3_127275', 'TIP3_129129', 'GLU_C_394', 'TIP3_128454', 'TIP3_129843'], 'TIP3_129828': ['TIP3_127416'], 'TIP3_128112': ['ASP_D_333', 'TIP3_128886', 'TIP3_129210', 'TIP3_127215'], 'TIP3_128064': ['TIP3_127917', 'TIP3_129000'], 'TIP3_128484': ['ASN_K_13', 'GLU_K_11'], 'TIP3_128703': ['TIP3_128169', 'TIP3_128250', 'TIP3_128754', 'GLU_A_244'], 'TIP3_127422': ['GLU_D_11'], 'TIP3_127722': ['TIP3_129570'], 'TIP3_127164': ['TIP3_128190', 'TIP3_129147', 'TIP3_129192', 'TIP3_129279', 'GLU_D_219'], 'TIP3_127755': ['HIS_C_74', 'ASP_J_23', 'ASP_J_19'], 'TIP3_127239': ['TIP3_128319', 'TIP3_129897', 'TIP3_129222'], 'TIP3_129945': ['ASP_O_14'], 'TIP3_127149': ['TIP3_128406', 'TIP3_128772', 'TIP3_130011'], 'TIP3_127686': ['SER_B_169', 'TIP3_129876', 'TIP3_130065', 'GLU_B_266'], 'TIP3_128190': ['GLU_D_219', 'TIP3_129192', 'TIP3_129318'], 'THR_D_248': ['TIP3_129045'], 'TIP3_127971': ['ASN_A_312', 'TIP3_129336'], 'TIP3_129063': ['TIP3_127374'], 'TIP3_130002': ['TIP3_127689', 'TIP3_129450'], 'TIP3_127476': ['ASP_B_15', 'TIP3_129231', 'TIP3_129807'], 'TIP3_128232': ['TIP3_128937', 'TIP3_129243'], 'TIP3_128271': ['TIP3_130092'], 'TIP3_47763': ['SER_C_275'], 'TIP3_129465': ['TIP3_127269', 'TIP3_128487', 'TIP3_128526'], 'TIP3_128316': ['TIP3_129186'], 'TIP3_128673': ['ASP_D_25', 'TIP3_127404', 'TIP3_129102'], 'TIP3_128439': ['TIP3_127245', 'ASP_B_372'], 'THR_C_412': ['TIP3_127848'], 'TIP3_129321': ['THR_G_27'], 'ASN_A_325': ['TIP3_47538'], 'TIP3_129405': ['TIP3_127866', 'TIP3_127959'], 'TIP3_130089': ['TIP3_128403'], 'TIP3_127203': ['TIP3_128835', 'TIP3_129147'], 'TIP3_127131': ['TIP3_127596'], 'TIP3_127143': ['GLU_D_337', 'TIP3_127917'], 'ASN_A_234': ['TIP3_128217', 'TIP3_128988', 'TIP3_127623'], 'TIP3_129177': ['ASP_D_333', 'TIP3_128886', 'TIP3_128940'], 'TIP3_129081': ['TIP3_130077'], 'TIP3_129936': ['ASP_B_119'], 'LYS_M_18': ['TIP3_130077'], 'TIP3_47646': ['TIP3_128154', 'GLU_D_323', 'TIP3_127998', 'TIP3_130074'], 'TIP3_127524': ['TIP3_129090', 'TIP3_129183'], 'TIP3_129777': ['TIP3_129156'], 'TIP3_129636': ['TIP3_129621', 'TIP3_127389'], 'SER_K_33': ['TIP3_47907'], 'TIP3_127308': ['GLU_C_464', 'TIP3_129450'], 'THR_D_80': ['TIP3_128613'], 'THR_B_271': ['TIP3_127827'], 'TIP3_129717': ['GLU_K_11', 'ASN_K_13'], 'TIP3_128742': ['GLU_C_394', 'TIP3_127407', 'TIP3_129843', 'TIP3_127227'], 'TRP_B_257': ['TIP3_47709'], 'TIP3_128436': ['TIP3_128733', 'THR_B_255'], 'TIP3_47892': ['TIP3_127848'], 'TIP3_127581': ['TIP3_129576'], 'TIP3_128205': ['TIP3_127506'], 'SER_B_365': ['TIP3_127737', 'TIP3_129771'], 'TIP3_127644': ['TIP3_128676'], 'ARG_N_24': ['TIP3_128523', 'TIP3_128220', 'TIP3_128304'], 'TIP3_129543': ['TIP3_127398', 'TIP3_127572', 'ASP_M_169', 'TIP3_128775', 'TIP3_129048'], 'TIP3_128865': ['TIP3_127455'], 'THR_A_316': ['TIP3_129009'], 'TIP3_128208': ['TIP3_129417', 'TIP3_127425'], 'TIP3_129180': ['TIP3_128670'], 'TIP3_128187': ['GLU_P_85'], 'LYS_P_134': ['TIP3_127848'], 'HIS_B_469': ['TIP3_127680', 'TIP3_129378'], 'TIP3_47634': ['ASP_B_276', 'TIP3_128214'], 'TIP3_128364': ['TYR_O_21', 'TIP3_129804'], 'ARG_A_64': ['TIP3_127287', 'TIP3_129852', 'TIP3_47610', 'TIP3_127194', 'TIP3_47934', 'TIP3_128142', 'TIP3_129612'], 'TIP3_127914': ['SER_D_300'], 'TIP3_129882': ['TIP3_127518', 'TIP3_129357', 'TIP3_129144'], 'TIP3_128571': ['TIP3_127953', 'TIP3_129021', 'TIP3_129282'], 'TIP3_129555': ['TIP3_128505', 'TIP3_129618', 'TIP3_127719', 'TIP3_129153'], 'TIP3_130104': ['GLU_D_323', 'TIP3_47925', 'TIP3_130074'], 'TIP3_129330': ['TIP3_127404', 'TIP3_128673', 'TIP3_129102'], 'LYS_P_47': ['TIP3_128151', 'TIP3_128688', 'TIP3_127185', 'TIP3_127956', 'TIP3_129171'], 'TIP3_129192': ['GLU_D_219', 'TIP3_128190', 'TIP3_129318'], 'TIP3_128358': ['TIP3_128766'], 'TIP3_129171': ['TIP3_127485', 'TIP3_128688', 'TIP3_129018'], 'TIP3_128850': ['TIP3_129810', 'TIP3_130062', 'TIP3_127782', 'TIP3_128145'], 'TIP3_127545': ['TIP3_127593'], 'TIP3_127701': ['TIP3_127128', 'TIP3_127227', 'TIP3_128913'], 'TIP3_127119': ['ASP_H_27', 'TIP3_128661'], 'TIP3_129633': ['TIP3_129645'], 'TIP3_47832': ['SER_D_33'], 'ARG_A_136': ['TIP3_127119'], 'ASN_M_155': ['TIP3_129099'], 'TIP3_127782': ['TIP3_128145', 'TIP3_128544', 'TIP3_129627', 'TIP3_128850'], 'TIP3_130050': ['TIP3_127980'], 'TIP3_128292': ['THR_O_44', 'ASP_P_83', 'THR_P_81'], 'TIP3_128826': ['SER_S_29', 'TIP3_127578'], 'TIP3_127350': ['TIP3_47652'], 'SER_A_169': ['TIP3_47550'], 'TIP3_129960': ['TIP3_128172'], 'TIP3_128991': ['TIP3_129168'], 'TIP3_128892': ['TIP3_127671', 'TIP3_128496'], 'TIP3_129381': ['ASN_C_327', 'TIP3_129879'], 'TIP3_128028': ['TIP3_127545'], 'TIP3_128397': ['TIP3_127347', 'TIP3_127812', 'TIP3_128007'], 'TIP3_128376': ['SER_B_76', 'GLU_B_94', 'TIP3_129582'], 'TIP3_129249': ['TIP3_47904', 'TIP3_127875'], 'TIP3_129174': ['THR_P_63', 'TIP3_129798'], 'TIP3_47793': ['TYR_D_315'], 'THR_D_75': ['TIP3_127176'], 'ARG_B_385': ['TIP3_129945', 'TIP3_128898', 'TIP3_47928'], 'TIP3_129774': ['TIP3_129708'], 'TIP3_129969': ['GLU_C_348', 'TYR_M_7', 'TIP3_129537', 'TIP3_130059'], 'TIP3_128832': ['TIP3_128910', 'TIP3_127140', 'TIP3_128616', 'TIP3_129432'], 'TIP3_128700': ['THR_C_316'], 'TIP3_128898': ['ASP_O_14', 'TIP3_47622', 'TIP3_129945', 'TIP3_129702'], 'ASN_C_405': ['TIP3_127239', 'TIP3_128319'], 'TIP3_129891': ['TIP3_127428', 'TIP3_128103'], 'TIP3_47598': ['TIP3_129516'], 'HIS_C_53': ['TIP3_47769'], 'TIP3_128883': ['TIP3_127203'], 'TIP3_127716': ['TIP3_127386'], 'TIP3_127236': ['GLU_C_308', 'TIP3_128046', 'TIP3_128445', 'ASN_C_294'], 'TIP3_127179': ['TIP3_128958'], 'TIP3_47589': ['TIP3_128163'], 'TIP3_128274': ['ASP_D_225', 'TIP3_127980'], 'TIP3_129975': ['TIP3_127314'], 'TIP3_127518': ['TIP3_127200', 'TIP3_129675', 'TIP3_129357', 'TIP3_129882'], 'ARG_D_265': ['TIP3_127611'], 'TIP3_128607': ['ASP_M_224', 'TIP3_127938', 'TIP3_128208', 'TIP3_129417'], 'SER_S_29': ['TIP3_128826'], 'THR_P_48': ['TIP3_127866', 'TIP3_127959'], 'TIP3_129468': ['TIP3_129753'], 'TIP3_127659': ['TIP3_47868', 'TIP3_128412', 'TIP3_128457'], 'TIP3_128769': ['TIP3_128727'], 'TIP3_129009': ['TIP3_129681', 'THR_A_316', 'ASP_A_319'], 'TIP3_129432': ['TIP3_127140', 'TIP3_128910', 'TIP3_127371'], 'TIP3_129246': ['TIP3_127284', 'TIP3_130053'], 'TIP3_127797': ['GLU_D_344', 'TIP3_127809', 'ASP_B_380'], 'TIP3_129870': ['ASN_C_415'], 'TIP3_127737': ['SER_B_365', 'TIP3_129771', 'TIP3_127320', 'TIP3_130116'], 'TIP3_128043': ['TYR_C_340'], 'TIP3_129735': ['TIP3_130173', 'THR_C_346', 'GLU_C_348'], 'TIP3_127677': ['TIP3_47892', 'TIP3_129675', 'TIP3_127848', 'TIP3_129297'], 'TIP3_128625': ['TIP3_128019', 'TIP3_129615'], 'TIP3_129489': ['TIP3_47679', 'TIP3_127899', 'TIP3_127893', 'TIP3_129720'], 'TIP3_129276': ['TIP3_127356'], 'TIP3_128451': ['GLU_B_364', 'TIP3_127359', 'TIP3_127614', 'ASP_D_297', 'TIP3_127347'], 'TIP3_127902': ['TIP3_127524'], 'TIP3_129429': ['TYR_B_279'], 'TIP3_129630': ['TIP3_127650'], 'ASN_A_296': ['TIP3_127197', 'TIP3_127641', 'TIP3_129684'], 'TIP3_130092': ['TIP3_128271'], 'TIP3_127809': ['GLU_D_344', 'TIP3_127797'], 'ARG_F_45': ['TIP3_128361', 'TIP3_129561', 'TIP3_128931'], 'TIP3_129957': ['TIP3_128130', 'ASP_G_9'], 'TIP3_47901': ['TYR_E_55'], 'TIP3_47643': ['TIP3_128379'], 'ASN_M_186': ['TIP3_127887'], 'TIP3_128760': ['TIP3_128394'], 'TIP3_128022': ['GLU_B_353', 'ASP_B_372', 'TIP3_127245', 'TIP3_128439'], 'TYR_E_44': ['TIP3_129339'], 'ARG_B_358': ['TIP3_128430', 'TIP3_129483', 'TIP3_128853', 'TIP3_129864'], 'TIP3_47727': ['TIP3_47748', 'TIP3_47733', 'TIP3_47754'], 'TIP3_129222': ['TIP3_128808', 'TIP3_130122'], 'TIP3_127830': ['SER_B_400'], 'TIP3_128754': ['TIP3_127581', 'TIP3_129645', 'GLU_A_244', 'TIP3_128250', 'TIP3_128703'], 'THR_P_58': ['TIP3_128340'], 'ARG_C_343': ['TIP3_127134', 'TIP3_127251', 'TIP3_128778'], 'TIP3_128250': ['GLU_A_244', 'TIP3_128703', 'TIP3_128754'], 'TIP3_128193': ['TIP3_127128', 'TIP3_129843', 'TIP3_128652'], 'ARG_M_115': ['TIP3_129765', 'TIP3_127428', 'TIP3_129891'], 'TIP3_128922': ['TYR_B_6', 'TIP3_129906'], 'TIP3_128685': ['TIP3_47784', 'TIP3_127998'], 'TIP3_128931': ['TYR_P_26'], 'TIP3_127326': ['TIP3_128412', 'TIP3_128580', 'TIP3_129228'], 'HIS_B_216': ['TIP3_47667'], 'ARG_R_39': ['TIP3_127563'], 'TIP3_128145': ['TIP3_128544', 'TIP3_129627', 'TIP3_129717'], 'ASN_A_322': ['TIP3_47583', 'TIP3_127638'], 'TIP3_128499': ['ASP_D_333', 'TIP3_128613', 'TIP3_129210'], 'TIP3_130122': ['TIP3_128808', 'TIP3_129222'], 'TIP3_128361': ['SER_I_37', 'TIP3_129828'], 'TIP3_47868': ['TIP3_127659'], 'TIP3_129573': ['TYR_A_235', 'GLU_N_25', 'TIP3_130062', 'TIP3_129810'], 'ARG_M_73': ['TIP3_127776'], 'TIP3_47562': ['ASP_A_61', 'TIP3_47559', 'TIP3_129006'], 'TIP3_127398': ['TIP3_128898', 'TIP3_129048', 'TIP3_127572'], 'TIP3_129618': ['TIP3_128505', 'TIP3_129555'], 'TIP3_130086': ['GLU_D_302', 'TIP3_129087'], 'ASN_D_194': ['TIP3_47802', 'TIP3_47796'], 'TIP3_127401': ['GLU_C_456', 'TIP3_127500', 'TIP3_127461'], 'TIP3_127632': ['TIP3_127326', 'TIP3_127659', 'TIP3_128412'], 'TIP3_127851': ['ASP_C_187', 'TIP3_128709'], 'TIP3_129225': ['TIP3_127272', 'TIP3_128064'], 'ARG_S_35': ['TIP3_128448'], 'SER_C_310': ['TIP3_47727'], 'LYS_O_47': ['TIP3_129126'], 'TIP3_47778': ['HIS_C_91', 'TIP3_47739', 'THR_C_94'], 'TIP3_130059': ['TYR_M_7'], 'TIP3_128589': ['TIP3_127383'], 'TIP3_129459': ['TIP3_127395', 'TIP3_128859'], 'TIP3_129585': ['SER_D_254', 'TIP3_128565', 'TIP3_128691', 'TIP3_127341', 'TIP3_128763'], 'TIP3_129087': ['GLU_D_302', 'TIP3_129501'], 'TIP3_129588': ['TIP3_130137'], 'TIP3_127167': ['TIP3_129612', 'TIP3_129594'], 'TIP3_128454': ['TIP3_127113', 'TIP3_129843', 'GLU_C_394', 'HIS_C_398', 'TIP3_129129', 'TIP3_129567'], 'THR_O_44': ['TIP3_128292'], 'TIP3_128418': ['TIP3_127323'], 'TYR_B_6': ['TIP3_128529'], 'TIP3_47709': ['ASN_D_292'], 'TIP3_129681': ['ASP_A_319', 'TIP3_129009'], 'TIP3_127641': ['ASN_A_296', 'TIP3_129699'], 'TIP3_127395': ['TIP3_128859', 'TIP3_129459'], 'TIP3_129552': ['TIP3_130074'], 'TIP3_127953': ['ASN_O_100', 'TIP3_128082', 'TIP3_129282', 'ASN_O_99'], 'TRP_G_62': ['TIP3_127827'], 'ARG_D_294': ['TIP3_128829', 'TIP3_47910', 'TIP3_129744'], 'TIP3_129090': ['SER_M_191', 'TIP3_127524', 'TIP3_129183'], 'LYS_B_423': ['TIP3_128799', 'TIP3_129162', 'TIP3_128226', 'TIP3_129912'], 'TIP3_128304': ['ASP_C_473', 'TIP3_129822'], 'TIP3_128574': ['GLU_M_218'], 'TIP3_128502': ['GLU_B_492'], 'TIP3_128286': ['TIP3_128658'], 'TIP3_47664': ['ASP_B_134'], 'TIP3_127728': ['TIP3_129300'], 'ARG_B_68': ['TIP3_47616', 'TIP3_128367'], 'TIP3_47538': ['TIP3_47586', 'ASN_A_322'], 'TIP3_128613': ['TIP3_128325', 'TIP3_128499', 'TIP3_129210'], 'TIP3_128421': ['TIP3_128220', 'TIP3_128763'], 'LYS_C_48': ['TIP3_127125', 'TIP3_128229'], 'TIP3_129723': ['TIP3_47565', 'GLU_D_242', 'TIP3_127473', 'TIP3_128391', 'TIP3_130002'], 'ASN_C_294': ['TIP3_128445', 'TIP3_128694', 'TIP3_129819', 'TIP3_129933', 'TIP3_128046'], 'ASN_C_228': ['TIP3_128592'], 'TIP3_129834': ['TIP3_128592', 'TIP3_128694', 'TIP3_128847', 'ASN_C_228'], 'TIP3_47661': ['THR_B_27'], 'TIP3_128277': ['ASN_A_338', 'TIP3_129099'], 'TIP3_128331': ['TIP3_127866', 'TIP3_127386', 'TIP3_128796'], 'ARG_A_140': ['TIP3_128631', 'TIP3_129078', 'TIP3_129816', 'TIP3_127164'], 'TIP3_128784': ['TIP3_47847', 'TIP3_127899', 'TIP3_129489'], 'TIP3_127950': ['TIP3_127926', 'TIP3_129198', 'TIP3_129441'], 'TIP3_127707': ['THR_B_327', 'TIP3_130119'], 'SER_I_37': ['TIP3_128361'], 'TIP3_130041': ['TIP3_127536', 'TIP3_127437'], 'SER_A_86': ['TIP3_129360'], 'TIP3_128031': ['TIP3_129153', 'TIP3_129555', 'TIP3_129618'], 'TIP3_128319': ['TIP3_128979', 'TIP3_129897'], 'TIP3_127665': ['TIP3_129732'], 'TIP3_47907': ['SER_K_32'], 'TRP_C_151': ['TIP3_129402'], 'ARG_D_24': ['TIP3_129354', 'TIP3_127806', 'TIP3_130035'], 'ARG_M_189': ['TIP3_129396'], 'ASN_A_298': ['TIP3_127992', 'TIP3_129684', 'TIP3_47592'], 'TIP3_128460': ['TIP3_47922', 'TIP3_128967'], 'SER_M_217': ['TIP3_47916'], 'TYR_E_55': ['TIP3_47898'], 'TIP3_127848': ['GLU_A_329', 'THR_C_412', 'TIP3_47892'], 'LYS_M_69': ['TIP3_127152', 'TIP3_129972'], 'TIP3_129660': ['TIP3_129504', 'TIP3_129789'], 'TIP3_47532': ['GLU_A_333', 'TIP3_47571', 'TIP3_47574', 'ASN_A_181', 'TIP3_47856'], 'TIP3_127842': ['SER_D_84', 'TIP3_127281', 'TIP3_129795'], 'TIP3_47895': ['THR_E_49'], 'HIS_C_398': ['TIP3_128454', 'TIP3_129129', 'TIP3_128343'], 'ASN_K_13': ['TIP3_128484', 'TIP3_129888', 'TIP3_128538'], 'TIP3_127938': ['TIP3_129861', 'ASP_M_222', 'TIP3_127734', 'TIP3_128223'], 'TIP3_129861': ['TYR_M_151', 'TIP3_128076'], 'TIP3_128334': ['TIP3_127182', 'TIP3_127467'], 'TIP3_129240': ['GLU_G_17', 'TIP3_47664'], 'HIS_D_336': ['TIP3_129000'], 'TIP3_129684': ['TIP3_127992', 'TIP3_130113', 'TIP3_127197', 'TIP3_127332'], 'TIP3_129309': ['ASN_O_99', 'TIP3_128277', 'TIP3_129099'], 'TIP3_127218': ['TIP3_127821', 'TIP3_129393'], 'TIP3_129819': ['TIP3_127242', 'TIP3_128625', 'TIP3_128694', 'TIP3_128445'], 'TIP3_129678': ['TIP3_127566', 'TIP3_128262'], 'TIP3_47685': ['ASP_B_334', 'TIP3_47889'], 'TIP3_127494': ['TIP3_128556', 'TIP3_130011'], 'TIP3_129513': ['TIP3_129363', 'GLU_C_83'], 'ASN_M_147': ['TIP3_127785'], 'TIP3_47697': ['TIP3_47625', 'GLU_B_41', 'TIP3_129663'], 'TIP3_127374': ['ASN_C_44', 'ASP_C_150'], 'TYR_P_137': ['TIP3_127200', 'TIP3_129522'], 'TIP3_127734': ['ASP_M_222', 'ASP_M_224', 'TIP3_127938'], 'TIP3_128949': ['ASP_O_96', 'TIP3_47937', 'TIP3_128466', 'TIP3_128622'], 'TIP3_47886': ['TIP3_47547', 'GLU_D_312'], 'TIP3_127365': ['TIP3_129651'], 'TIP3_47721': ['TIP3_47511'], 'ARG_C_449': ['TIP3_128718'], 'TIP3_47823': ['TIP3_47793'], 'TIP3_129942': ['TIP3_128466', 'TIP3_127230', 'TIP3_128595'], 'TIP3_47715': ['TIP3_47766', 'MET_C_342'], 'TIP3_128496': ['TIP3_127671', 'TIP3_128892', 'TIP3_127701', 'TIP3_128235'], 'TIP3_128706': ['TIP3_128961'], 'SER_D_172': ['TIP3_128139'], 'TIP3_130038': ['TIP3_128313', 'TIP3_127542'], 'TRP_D_93': ['TIP3_127455'], 'ARG_C_262': ['TIP3_127731'], 'TIP3_129255': ['TYR_G_49'], 'TIP3_47541': ['TYR_A_161', 'HIS_A_190', 'TIP3_47553', 'TIP3_47556', 'GLU_A_189'], 'TIP3_128388': ['GLU_B_235', 'TIP3_128283'], 'TYR_P_26': ['TIP3_127449', 'TIP3_128469'], 'TIP3_129741': ['TIP3_128871', 'TIP3_127359'], 'TIP3_127608': ['TIP3_127341', 'TIP3_128175', 'TIP3_128904', 'TIP3_127335', 'TIP3_129453'], 'TIP3_129996': ['TIP3_128601'], 'TIP3_129855': ['TIP3_127230', 'TIP3_128364'], 'LYS_P_129': ['TIP3_129927', 'TIP3_128973'], 'TIP3_127821': ['TIP3_128949', 'ASP_O_96', 'TIP3_47937'], 'ASN_B_318': ['TIP3_47634'], 'TIP3_127629': ['TIP3_127935', 'TIP3_128907'], 'TIP3_47676': ['GLU_B_428'], 'TIP3_128829': ['TIP3_47910'], 'TIP3_127299': ['TIP3_130041'], 'TIP3_128349': ['SER_P_39', 'TIP3_127122', 'TIP3_128343', 'TIP3_129624'], 'TIP3_129738': ['TIP3_129597'], 'ARG_E_8': ['TIP3_129153', 'TIP3_129786'], 'TIP3_128811': ['TIP3_128517'], 'TIP3_47613': ['TIP3_47637'], 'TIP3_128166': ['TIP3_127380'], 'TIP3_129912': ['TIP3_128202', 'TIP3_128226', 'TIP3_129162'], 'TIP3_47610': ['TYR_M_151'], 'TIP3_129810': ['TIP3_128850', 'GLU_N_25', 'TIP3_130062'], 'TIP3_127839': ['TIP3_128889', 'GLU_L_30'], 'TIP3_129033': ['TIP3_127509', 'TIP3_128640', 'TIP3_128664'], 'TIP3_127587': ['ASN_A_234', 'TIP3_128538'], 'TIP3_127896': ['TIP3_128934', 'TIP3_128400', 'TIP3_128619'], 'TIP3_129219': ['TIP3_128184', 'TIP3_127794', 'TIP3_128307'], 'TIP3_130020': ['TIP3_130038'], 'TIP3_128934': ['TIP3_129249'], 'ARG_D_326': ['TIP3_47925', 'TIP3_127329', 'TIP3_47631', 'TIP3_128055', 'TIP3_47784', 'TIP3_130104'], 'TIP3_128559': ['TIP3_129978'], 'TIP3_127377': ['TIP3_127965'], 'TIP3_130107': ['TIP3_127224'], 'SER_C_406': ['TIP3_129030'], 'TIP3_129768': ['GLU_C_389'], 'THR_N_5': ['TIP3_128472'], 'TIP3_129672': ['ASP_O_96', 'TIP3_47937', 'TIP3_128622', 'TIP3_129366'], 'LYS_M_86': ['TIP3_129540'], 'TIP3_127875': ['TIP3_127896', 'TIP3_128400', 'TIP3_128934'], 'TIP3_130149': ['TIP3_129288', 'TIP3_129591', 'TIP3_129621', 'TIP3_129636', 'ASP_C_360'], 'TIP3_127836': ['TIP3_127257'], 'TIP3_130125': ['TIP3_127680'], 'TIP3_129021': ['TIP3_128082', 'TIP3_127953', 'TIP3_128571', 'TIP3_129282'], 'ARG_D_26': ['TIP3_127806', 'TIP3_47805', 'TIP3_130035'], 'ARG_E_61': ['TIP3_128586'], 'TIP3_129348': ['TIP3_128121', 'TIP3_129810'], 'TIP3_129933': ['TIP3_128289'], 'TIP3_127128': ['TIP3_127407', 'TIP3_128193', 'TIP3_128964', 'TIP3_129843', 'TIP3_127227', 'TIP3_127701', 'TIP3_128235'], 'TIP3_127698': ['TIP3_127644', 'TIP3_127611'], 'TIP3_127500': ['TIP3_127401', 'GLU_C_456'], 'THR_C_139': ['TIP3_127317'], 'TRP_D_58': ['TIP3_128670'], 'ARG_H_34': ['TIP3_128955', 'TIP3_129651', 'TIP3_128307'], 'TIP3_128241': ['SER_C_216', 'GLU_C_221'], 'TIP3_127776': ['TIP3_127206', 'TIP3_128604', 'GLU_A_104'], 'TIP3_127764': ['TIP3_127647', 'TIP3_128514'], 'TIP3_129168': ['TIP3_128349', 'HIS_C_398', 'TIP3_127113', 'TIP3_128454'], 'TRP_A_131': ['TIP3_47721'], 'TIP3_47484': ['GLU_A_65', 'TIP3_128532'], 'TIP3_129897': ['TIP3_127566', 'TIP3_128355', 'TIP3_128058'], 'LYS_B_418': ['TIP3_129048', 'TIP3_129702', 'TIP3_47622', 'TIP3_128898'], 'TIP3_129561': ['TIP3_128802', 'TIP3_129477'], 'TIP3_128169': ['TIP3_129645', 'THR_D_243', 'TIP3_128640'], 'ARG_B_272': ['TIP3_47634', 'TIP3_47709', 'TIP3_130167', 'TIP3_129426', 'TIP3_128214', 'TIP3_128907'], 'TIP3_130173': ['GLU_C_348', 'TIP3_129735'], 'CYS_D_71': ['TIP3_47850'], 'TIP3_129783': ['TIP3_128796', 'TIP3_127716'], 'TIP3_130116': ['TIP3_127320', 'TIP3_127836', 'TIP3_128202', 'TIP3_128124', 'TIP3_128226'], 'TIP3_47829': ['TIP3_127854', 'TIP3_129003'], 'ARG_G_12': ['TIP3_129957', 'TIP3_128952'], 'TIP3_129675': ['TIP3_127518', 'TIP3_129144', 'TIP3_129357', 'TIP3_129882', 'TIP3_47892', 'TIP3_127677'], 'TIP3_47580': ['TIP3_47463'], 'TIP3_128325': ['TIP3_128133'], 'TIP3_128151': ['TIP3_128688', 'GLU_C_413'], 'SER_B_419': ['TIP3_128799'], 'TIP3_127224': ['TIP3_128244'], 'LYS_M_160': ['TIP3_129087', 'TIP3_129501', 'TIP3_130086', 'TIP3_47646', 'TIP3_128154'], 'TIP3_47877': ['TIP3_47844', 'TIP3_47817', 'TIP3_47853'], 'ASN_A_108': ['TIP3_128604', 'TIP3_129111'], 'TIP3_129210': ['ASP_D_333', 'TIP3_127593', 'HIS_D_61', 'TIP3_127215', 'TIP3_128112'], 'SER_B_76': ['TIP3_128376'], 'TIP3_129579': ['TYR_D_141', 'TIP3_128793'], 'TIP3_127332': ['TIP3_127170', 'TIP3_130113'], 'TIP3_127905': ['ASN_B_53', 'ASN_B_331'], 'TIP3_127434': ['TIP3_128232'], 'TIP3_129663': ['GLU_B_41', 'TIP3_47625'], 'ASN_S_58': ['TIP3_129204'], 'TIP3_127317': ['TIP3_129063', 'THR_C_139', 'GLU_C_141'], 'TIP3_128505': ['TIP3_127719'], 'ASN_C_155': ['TIP3_129237'], 'ASN_A_266': ['TIP3_128502'], 'TIP3_128793': ['TIP3_130152', 'TIP3_127698'], 'ARG_A_269': ['TIP3_128640', 'TIP3_127509', 'TIP3_127980', 'TIP3_128274'], 'ARG_B_384': ['TIP3_130155', 'TIP3_130146', 'TIP3_127326', 'TIP3_127659'], 'LYS_C_339': ['TIP3_128622', 'TIP3_129099', 'TIP3_129672', 'TIP3_128277', 'TIP3_129309', 'TIP3_128043'], 'TIP3_129726': ['TYR_A_73', 'TIP3_129303'], 'TIP3_128598': ['TIP3_129255'], 'TIP3_128433': ['TIP3_127278', 'TIP3_129117'], 'ARG_P_66': ['TIP3_127884', 'TIP3_129072'], 'TIP3_129972': ['ASP_A_103', 'TIP3_127152', 'TIP3_128679', 'TIP3_129951'], 'TIP3_129243': ['TIP3_128937'], 'TIP3_127311': ['GLU_A_329', 'TIP3_127833', 'TIP3_127848', 'ASP_A_342', 'TIP3_127170'], 'TIP3_127827': ['TIP3_128583', 'TIP3_129429', 'TIP3_127110'], 'TIP3_130158': ['TIP3_128511'], 'TIP3_47850': ['SER_D_65'], 'TIP3_128871': ['TIP3_127359', 'TIP3_129741', 'TIP3_127347'], 'ASN_D_350': ['TIP3_127908'], 'TIP3_130110': ['ASP_C_473', 'TIP3_127788'], 'THR_P_63': ['TIP3_47949'], 'TIP3_128001': ['HIS_B_466', 'SER_B_239'], 'TIP3_129150': ['TIP3_127155', 'TIP3_129930'], 'TIP3_129507': ['GLU_O_93', 'TIP3_128238'], 'LYS_D_264': ['TIP3_127473', 'TIP3_128250', 'TIP3_47565'], 'HIS_A_304': ['TIP3_128973', 'TIP3_129705', 'TIP3_127674', 'TIP3_129474'], 'TIP3_128109': ['TIP3_129549', 'TIP3_129816', 'TIP3_129078'], 'TIP3_129624': ['TIP3_128991'], 'SER_D_230': ['TIP3_127461', 'TIP3_128631'], 'TYR_C_149': ['TIP3_129402'], 'ASN_A_338': ['TIP3_47766', 'TIP3_128730'], 'TIP3_129126': ['TIP3_129783', 'TIP3_128292'], 'ASN_B_53': ['TIP3_128985'], 'TIP3_129267': ['TIP3_129990'], 'ARG_B_326': ['TIP3_127854', 'TIP3_129003', 'TIP3_128073', 'TIP3_128451', 'TIP3_128079', 'TIP3_129744'], 'ARG_K_7': ['TIP3_127536'], 'TIP3_47547': ['TIP3_130098'], 'TIP3_129411': ['TIP3_47928'], 'SER_A_70': ['TIP3_47448'], 'TIP3_127572': ['TIP3_127398', 'TIP3_129543'], 'TIP3_128730': ['ASN_A_338'], 'SER_B_74': ['TIP3_127818', 'TIP3_129582'], 'TYR_M_168': ['TIP3_47925'], 'TIP3_130071': ['TIP3_128808', 'TIP3_128385'], 'TIP3_128622': ['ASP_O_96', 'TIP3_47937', 'TIP3_128466', 'TIP3_128949', 'TIP3_129672'], 'LYS_L_34': ['TIP3_129051'], 'TIP3_129669': ['TIP3_127191'], 'TIP3_127335': ['SER_D_262', 'TIP3_129453', 'TIP3_129573', 'THR_K_15', 'TIP3_128904'], 'TIP3_129057': ['SER_P_39', 'TIP3_127860'], 'TIP3_127341': ['TIP3_127608', 'TIP3_128175', 'TIP3_128904', 'TIP3_129585', 'TIP3_127263'], 'SER_B_79': ['TIP3_127617'], 'TIP3_47586': ['TIP3_47538', 'TIP3_47526'], 'TIP3_127578': ['SER_S_36', 'TIP3_128118'], 'TIP3_47670': ['ASP_B_313', 'TIP3_47658', 'TIP3_47682'], 'TIP3_129006': ['TIP3_47493', 'ASP_A_61', 'TIP3_47559', 'TIP3_47562'], 'TIP3_127443': ['TIP3_129132', 'TIP3_129876'], 'TIP3_130011': ['TIP3_127494', 'TIP3_128406', 'TIP3_128556', 'TIP3_127149', 'TIP3_128610'], 'TIP3_127941': ['TIP3_128193'], 'TIP3_47478': ['TIP3_47532'], 'TIP3_129771': ['TIP3_127836', 'TIP3_130116', 'TIP3_128871'], 'TIP3_128814': ['TIP3_128271'], 'TIP3_128307': ['TIP3_128184', 'TIP3_127794'], 'TIP3_47790': ['TIP3_47829', 'TIP3_127854'], 'TIP3_127482': ['TIP3_127293'], 'TIP3_128637': ['SER_C_416', 'TIP3_128259', 'TIP3_129477'], 'TIP3_128889': ['THR_L_29'], 'TIP3_128427': ['ASP_C_460', 'TIP3_130161'], 'TIP3_47880': ['TIP3_47817'], 'LYS_C_381': ['TIP3_127977'], 'TIP3_47787': ['ASN_D_292'], 'TIP3_128988': ['TIP3_128091', 'TIP3_129924', 'TIP3_128217', 'TIP3_129906'], 'TIP3_129291': ['TIP3_129117', 'TIP3_129909'], 'ARG_C_390': ['TIP3_127233'], 'TIP3_47460': ['TYR_A_161', 'TIP3_47541', 'TIP3_47556'], 'TIP3_129909': ['GLU_C_71'], 'TIP3_127359': ['GLU_B_364', 'TIP3_127614', 'TIP3_128451', 'TIP3_127347', 'TIP3_128871'], 'TIP3_128268': ['TIP3_128595'], 'TIP3_128688': ['TIP3_129018', 'TIP3_129171'], 'TIP3_129399': ['MET_M_225', 'SER_M_191', 'ASP_M_223', 'TIP3_129183'], 'TIP3_127272': ['GLU_D_337', 'TIP3_127143', 'TIP3_127917'], 'TIP3_128733': ['SER_B_260', 'THR_B_262', 'TIP3_47703'], 'SER_B_388': ['TIP3_127797'], 'TIP3_130152': ['TIP3_128286'], 'TIP3_128553': ['TIP3_127284', 'TIP3_128844'], 'TIP3_127155': ['TIP3_129150'], 'TRP_B_340': ['TIP3_47676'], 'TIP3_127122': ['SER_P_39', 'TIP3_127860', 'TIP3_128343'], 'TIP3_127209': ['TIP3_128334', 'TIP3_127467'], 'ASN_A_312': ['TIP3_129207'], 'TIP3_128016': ['TYR_P_75'], 'TIP3_128628': ['THR_B_371'], 'TIP3_129075': ['TIP3_47799', 'TIP3_128829'], 'TIP3_128976': ['TIP3_128592', 'TIP3_128694', 'TIP3_128847', 'TIP3_127209', 'TIP3_127467'], 'TIP3_47514': ['TIP3_47517'], 'TIP3_47517': ['ASP_A_61', 'TIP3_47550', 'GLU_A_333', 'GLU_C_354'], 'TIP3_47481': ['SER_A_167'], 'TIP3_128085': ['TIP3_128790', 'TIP3_129888'], 'TIP3_129873': ['TIP3_127671', 'TIP3_128496'], 'TIP3_128664': ['TIP3_127509', 'TIP3_129633'], 'TIP3_128577': ['TIP3_127575'], 'TIP3_129015': ['GLU_B_393', 'TIP3_47622'], 'TIP3_128226': ['TIP3_128124', 'TIP3_130116', 'TIP3_127320', 'TIP3_128202', 'TIP3_129162'], 'TIP3_127329': ['TIP3_47925'], 'TIP3_127467': ['TIP3_127389', 'TIP3_129636', 'ASP_C_360', 'TIP3_129414'], 'ARG_A_257': ['TIP3_47859', 'TIP3_128559'], 'TIP3_129708': ['TIP3_129774'], 'TIP3_128019': ['ASP_C_360', 'TIP3_129591', 'TIP3_129636', 'TIP3_127389', 'TIP3_129495'], 'HIS_B_343': ['TIP3_128853', 'TIP3_129558'], 'TIP3_129699': ['ASN_A_296', 'TIP3_127641', 'TIP3_129141', 'TIP3_129747'], 'ARG_B_472': ['TIP3_127680', 'TIP3_128283', 'TIP3_128388', 'TIP3_128529'], 'TIP3_129843': ['TIP3_127113', 'TIP3_128742', 'TIP3_128964', 'GLU_C_394', 'TIP3_127407'], 'TIP3_128532': ['GLU_D_312', 'TIP3_128634', 'TIP3_47562', 'TIP3_129006'], 'ASN_A_301': ['TIP3_47712'], 'TIP3_128766': ['ASP_A_25'], 'TRP_P_130': ['TIP3_128310'], 'TYR_S_27': ['TIP3_128811'], 'TIP3_130044': ['TIP3_128223'], 'TIP3_127923': ['ASP_C_360', 'TIP3_129414', 'TIP3_127182', 'TIP3_127467'], 'TIP3_130137': ['TIP3_129228'], 'TIP3_127980': ['TIP3_127509', 'ASP_D_225'], 'TIP3_128121': ['TIP3_129759', 'TIP3_129810', 'TIP3_130062'], 'TIP3_129000': ['GLU_D_337', 'TIP3_127917'], 'LYS_E_84': ['TIP3_127191'], 'TIP3_127362': ['GLU_A_229', 'TIP3_127305'], 'ARG_B_124': ['TIP3_127356', 'TIP3_128247'], 'TIP3_129114': ['TIP3_129936'], 'TIP3_127515': ['ASP_M_222', 'TIP3_127734', 'SER_M_150', 'ASP_M_223', 'TIP3_129183', 'TIP3_129399'], 'TIP3_47577': ['TIP3_47607', 'THR_A_179'], 'TIP3_129351': ['GLU_C_348', 'TYR_M_7', 'TIP3_129333', 'TIP3_130173'], 'HIS_B_114': ['TIP3_47655'], 'TIP3_128679': ['ASP_A_103', 'TIP3_129972'], 'TIP3_47871': ['TIP3_47484', 'TIP3_47562'], 'TIP3_127695': ['GLU_D_241', 'GLU_A_242', 'GLU_D_242'], 'TIP3_47559': ['GLU_A_333', 'TIP3_47532', 'TIP3_47574', 'ASP_A_61', 'TIP3_47562', 'TIP3_129006'], 'TIP3_129450': ['GLU_C_464', 'TIP3_127308'], 'TIP3_127416': ['TIP3_127761'], 'TIP3_129111': ['ASN_A_108'], 'TIP3_128958': ['TIP3_127377', 'ASP_D_20', 'TIP3_127563'], 'TIP3_130005': ['TIP3_127485', 'TIP3_129171'], 'ARG_C_423': ['TIP3_47724', 'TIP3_127236'], 'TIP3_129597': ['TIP3_128187'], 'TIP3_129906': ['TIP3_128091', 'TIP3_128676', 'TIP3_128217', 'TIP3_129579'], 'TIP3_129711': ['TIP3_127845', 'TIP3_128196'], 'TIP3_128091': ['TYR_B_6', 'TIP3_128157', 'TIP3_129906'], 'ARG_C_41': ['TIP3_47904', 'TIP3_129249'], 'ASN_A_315': ['TIP3_128973', 'TIP3_129705', 'TIP3_130164'], 'TYR_O_42': ['TIP3_128925'], 'TIP3_127611': ['GLU_A_226'], 'TIP3_128157': ['TIP3_128091', 'TIP3_129312'], 'TIP3_127614': ['GLU_B_364', 'TIP3_47799', 'TIP3_127359', 'TIP3_128451', 'TIP3_128829'], 'TIP3_127284': ['TIP3_130032', 'TIP3_128553', 'TIP3_129951'], 'TRP_C_189': ['TIP3_129834'], 'TIP3_128610': ['TYR_B_312', 'TIP3_127494'], 'TIP3_129198': ['TIP3_127419'], 'TIP3_47889': ['TIP3_47685'], 'LYS_C_457': ['TIP3_130050'], 'TIP3_128538': ['TIP3_128085', 'TIP3_129888', 'TIP3_127587'], 'TIP3_127935': ['TIP3_127917', 'TIP3_128064'], 'TIP3_127563': ['ASP_D_20', 'TIP3_128958'], 'TIP3_47925': ['GLU_D_323', 'TYR_M_168', 'TIP3_130104', 'TIP3_47679'], 'TIP3_128751': ['TIP3_128244'], 'SER_C_299': ['TIP3_127236'], 'ASN_D_190': ['TIP3_47823', 'TIP3_47835', 'TIP3_47793'], 'TIP3_129753': ['TIP3_129231', 'TIP3_129807'], 'TIP3_127110': ['TIP3_129954', 'TIP3_130065', 'TIP3_128583'], 'TIP3_129186': ['TIP3_128316', 'TIP3_129435'], 'TIP3_127845': ['THR_C_188', 'GLU_C_300', 'TIP3_127749', 'TIP3_129159', 'TIP3_128289'], 'TIP3_127800': ['SER_C_299', 'TIP3_128289', 'GLU_C_308'], 'TIP3_127569': ['TIP3_127791', 'TIP3_128238', 'GLU_O_93'], 'TIP3_128916': ['GLU_P_122', 'TIP3_127449'], 'TIP3_128973': ['HIS_A_304', 'ASN_A_315', 'TIP3_129705'], 'TIP3_129801': ['TIP3_128160'], 'TIP3_47493': ['ASP_A_59'], 'TIP3_129144': ['TIP3_47892', 'TIP3_130146'], 'TIP3_127926': ['TIP3_127950', 'TIP3_129441'], 'SER_C_416': ['TIP3_127161'], 'LYS_C_323': ['TIP3_128148', 'TIP3_129768'], 'TIP3_129477': ['TIP3_127302', 'TIP3_128259', 'TIP3_130143'], 'TIP3_47637': ['TIP3_47613'], 'TIP3_129954': ['TIP3_127110', 'TIP3_127443'], 'TIP3_127884': ['TIP3_129072', 'TIP3_127290', 'TIP3_128016'], 'TIP3_129444': ['TIP3_129510', 'GLU_B_393'], 'ARG_D_139': ['TIP3_127413', 'TIP3_127644', 'TIP3_128676', 'TIP3_127698', 'TIP3_128157', 'TIP3_129054'], 'TIP3_128979': ['TIP3_129222', 'TIP3_127239', 'TIP3_128319', 'TIP3_129897'], 'TIP3_129528': ['TIP3_128424'], 'TIP3_47487': ['TIP3_47439'], 'TIP3_129297': ['THR_C_412', 'GLU_A_329', 'TIP3_127677', 'TIP3_127848'], 'TIP3_129333': ['TIP3_130173', 'TIP3_127872', 'TIP3_128166'], 'TIP3_128055': ['TIP3_47631'], 'ARG_B_448': ['TIP3_127110'], 'TIP3_129342': ['TIP3_129798'], 'TIP3_127647': ['TIP3_128514', 'TIP3_129528'], 'TIP3_129279': ['TIP3_127164', 'TIP3_129147'], 'ARG_C_357': ['TIP3_47550'], 'TIP3_47526': ['TIP3_47595'], 'TIP3_129807': ['ASN_K_4', 'TIP3_127476', 'ASP_B_15', 'TIP3_129231'], 'TIP3_129963': ['ASN_A_315', 'TIP3_127638', 'TIP3_129927'], 'TRP_A_105': ['TIP3_47502'], 'TIP3_127353': ['TIP3_128220', 'TIP3_128421', 'TIP3_128691', 'TIP3_128763', 'TIP3_127254', 'TIP3_128523', 'TIP3_128565', 'TIP3_129585'], 'TIP3_128490': ['TIP3_129141', 'TIP3_129921'], 'ASN_A_335': ['TIP3_47484'], 'TIP3_129606': ['TIP3_130071'], 'TIP3_127371': ['TIP3_127140', 'TIP3_128910'], 'TIP3_128475': ['TIP3_129558'], 'TYR_C_82': ['TIP3_47724', 'TIP3_128862'], 'TIP3_47703': ['TIP3_128598', 'TIP3_128436', 'TIP3_128733'], 'SER_A_222': ['TIP3_47865'], 'TIP3_129852': ['TIP3_47934', 'TIP3_127287', 'TIP3_127167'], 'TIP3_128508': ['TIP3_130047'], 'TIP3_127893': ['SER_B_365', 'TIP3_127737'], 'TIP3_129537': ['THR_M_13', 'TIP3_129969', 'TIP3_130059'], 'TIP3_47835': ['THR_D_192', 'ASN_D_190'], 'TYR_A_135': ['TIP3_127365', 'TIP3_129651'], 'TIP3_129471': ['TIP3_127404', 'TIP3_129330'], 'TIP3_129231': ['ASP_B_15', 'ASN_K_6'], 'TIP3_129924': ['TIP3_128091', 'TIP3_128988'], 'ARG_E_18': ['TIP3_129786', 'TIP3_129153'], 'TIP3_129879': ['ASN_C_327', 'TIP3_129381'], 'TIP3_129303': ['TIP3_128553', 'TIP3_130053', 'TIP3_129246'], 'TIP3_129483': ['SER_B_278', 'TIP3_128013'], 'TIP3_129051': ['GLU_L_30'], 'TIP3_128556': ['TIP3_128406'], 'TIP3_47667': ['TIP3_127803'], 'ARG_D_180': ['TIP3_128112', 'TIP3_128886', 'TIP3_128325', 'TIP3_128613', 'TIP3_128139', 'TIP3_129915', 'TIP3_129177', 'TIP3_128133', 'TIP3_128499'], 'TIP3_47718': ['TIP3_47715', 'TIP3_47508'], 'ASN_A_191': ['TIP3_47538', 'TIP3_47586', 'TIP3_47544'], 'SER_D_262': ['TIP3_129453', 'TIP3_129573'], 'TIP3_129903': ['TIP3_127584'], 'TIP3_130035': ['TIP3_130017', 'ASP_R_35', 'TIP3_128280'], 'TIP3_128046': ['TIP3_128445', 'TIP3_129819', 'GLU_C_308', 'TIP3_127236'], 'TIP3_127290': ['TIP3_129258', 'TIP3_128016'], 'TIP3_129387': ['THR_E_5', 'TIP3_127824'], 'TIP3_129744': ['TIP3_47910', 'ASP_D_297', 'TIP3_128451'], 'TIP3_129270': ['TIP3_127203', 'TIP3_128883', 'TIP3_129318'], 'TIP3_128595': ['TIP3_128268', 'TIP3_128466'], 'TIP3_47856': ['ASN_A_181', 'TIP3_129987'], 'TIP3_129798': ['THR_P_63', 'TIP3_129342', 'TIP3_129174'], 'TIP3_127134': ['TIP3_128460'], 'TIP3_128682': ['GLU_M_244'], 'TIP3_128007': ['ASP_D_297', 'TIP3_128079', 'GLU_D_302', 'TIP3_127812', 'TIP3_129501'], 'TIP3_129078': ['GLU_C_456', 'TIP3_127500'], 'TIP3_128457': ['GLU_D_343', 'TIP3_127470', 'TIP3_127929', 'TIP3_127659'], 'TIP3_129378': ['GLU_B_235', 'HIS_B_469', 'TIP3_127680'], 'TIP3_129030': ['TIP3_127890', 'TIP3_127779'], 'TIP3_129645': ['TIP3_127581', 'TIP3_128754', 'TIP3_129633'], 'TYR_C_395': ['TIP3_127800'], 'ASN_C_373': ['TIP3_127251'], 'ARG_B_18': ['TIP3_127476', 'TIP3_129807'], 'ARG_M_152': ['TIP3_127734', 'TIP3_127938', 'TIP3_128607', 'TIP3_129861', 'TIP3_127425', 'TIP3_128076'], 'SER_M_166': ['TIP3_127908', 'TIP3_130155'], 'TIP3_129564': ['ASP_P_53'], 'TIP3_127863': ['TIP3_127455', 'TIP3_128865'], 'TIP3_128259': ['TIP3_127302', 'TIP3_128916', 'GLU_P_122', 'TIP3_127449', 'TIP3_127464', 'TIP3_129327'], 'ASN_A_76': ['TIP3_127914'], 'TIP3_129582': ['GLU_B_94', 'TIP3_128376', 'SER_B_74', 'TIP3_127818'], 'TIP3_127137': ['TIP3_127653', 'TIP3_128016'], 'TIP3_47769': ['TYR_C_149'], 'SER_D_165': ['TIP3_127629', 'TIP3_129426'], 'TIP3_47736': ['TIP3_47922'], 'TIP3_129162': ['TIP3_129912', 'TIP3_127257', 'TIP3_128202'], 'TIP3_129132': ['TIP3_127443'], 'TIP3_47748': ['TIP3_47589', 'ASP_A_342', 'GLU_C_354'], 'TIP3_129690': ['TIP3_130107'], 'SER_A_85': ['TIP3_47481'], 'TIP3_129567': ['TIP3_128652', 'TIP3_129129', 'TIP3_129057'], 'TIP3_129069': ['TIP3_128190', 'TIP3_129147', 'TIP3_129270'], 'TIP3_47625': ['GLU_B_41', 'TIP3_129663'], 'TYR_P_35': ['TIP3_127995', 'TIP3_129513'], 'ARG_B_357': ['TIP3_129660'], 'TIP3_128247': ['TIP3_127356'], 'TIP3_47454': ['SER_A_70', 'TIP3_47448'], 'TIP3_127731': ['TIP3_128649'], 'TIP3_127995': ['TYR_P_35', 'TIP3_129039', 'ASN_P_106'], 'SER_B_169': ['TIP3_127686'], 'TIP3_47910': ['TIP3_127614', 'TIP3_128829'], 'TIP3_129612': ['TIP3_127167', 'TIP3_47934'], 'LYS_C_154': ['TIP3_128178', 'TIP3_128037'], 'ASN_K_4': ['TIP3_129468'], 'TIP3_127197': ['TIP3_127332', 'TIP3_129684'], 'TIP3_129426': ['ASP_B_276', 'TIP3_127629', 'TIP3_127935'], 'TIP3_129990': ['TIP3_129267'], 'HIS_C_251': ['TIP3_47751'], 'TIP3_127302': ['TIP3_129477', 'TIP3_130143', 'TIP3_128916'], 'SER_D_245': ['TIP3_127689', 'TIP3_128256'], 'HIS_C_74': ['TIP3_127755'], 'ASN_B_348': ['TIP3_129408'], 'ARG_C_391': ['TIP3_128196', 'TIP3_127941', 'TIP3_127407', 'TIP3_127128'], 'TIP3_129129': ['TIP3_127275', 'TIP3_128652', 'GLU_C_394', 'HIS_C_398', 'TIP3_128454'], 'TIP3_129654': ['TIP3_127521', 'TIP3_127557'], 'TIP3_128034': ['TIP3_127938', 'TIP3_128607', 'GLU_D_310'], 'TIP3_128925': ['TIP3_127386', 'TIP3_127716', 'TIP3_127653'], 'TIP3_128994': ['TIP3_128100'], 'TIP3_127833': ['GLU_A_329', 'THR_C_412', 'TIP3_127311'], 'TIP3_128805': ['GLU_E_7'], 'TIP3_129282': ['ASN_O_100', 'TIP3_127953', 'TIP3_128082', 'TIP3_129021', 'ASN_O_31'], 'TIP3_129702': ['ASP_O_14', 'ASP_M_169', 'TIP3_128106', 'TIP3_129462'], 'TIP3_127245': ['ASP_B_372', 'TIP3_128439'], 'THR_O_68': ['TIP3_128010'], 'TIP3_128235': ['TIP3_127701', 'TIP3_128496', 'TIP3_129873'], 'TIP3_130161': ['ASP_C_460'], 'LYS_B_321': ['TIP3_47799', 'TIP3_127614', 'TIP3_127359', 'TIP3_129741', 'TIP3_129135'], 'TRP_B_56': ['TIP3_128610'], 'TIP3_127389': ['TIP3_129495', 'TIP3_128976', 'TIP3_129615'], 'TIP3_128835': ['TIP3_129147', 'TIP3_129279', 'TIP3_129069', 'TIP3_129270'], 'ARG_G_3': ['TIP3_129936'], 'TIP3_127710': ['TIP3_127581', 'TIP3_129645'], 'HIS_A_198': ['TIP3_47442'], 'TIP3_127758': ['SER_R_32'], 'ASN_C_293': ['TIP3_128847'], 'TIP3_127593': ['HIS_D_61', 'TIP3_127215', 'TIP3_129210', 'ASP_D_333'], 'TIP3_127404': ['ASP_D_25', 'TIP3_127551', 'TIP3_129102', 'TIP3_129471'], 'TIP3_127536': ['TIP3_127506', 'TIP3_129630', 'TIP3_130041'], 'TIP3_129423': ['TIP3_128541'], 'TIP3_128082': ['ASN_O_31', 'TIP3_129234', 'TIP3_128580'], 'TIP3_47631': ['TYR_D_296'], 'TIP3_127818': ['TIP3_128376'], 'HIS_P_118': ['TIP3_127464'], 'TIP3_128907': ['TIP3_127629', 'TIP3_127935', 'TIP3_128214'], 'TIP3_128280': ['ASP_R_35', 'TIP3_130035'], 'TIP3_129384': ['TIP3_129348', 'SER_D_262'], 'TIP3_127473': ['GLU_D_242', 'TIP3_128391', 'TIP3_129723'], 'TIP3_47640': ['SER_B_439'], 'ARG_C_461': ['TIP3_127695'], 'TIP3_128004': ['SER_C_299', 'TYR_C_395'], 'TIP3_129453': ['TIP3_128175', 'SER_D_262', 'TIP3_129573'], 'TIP3_128895': ['TIP3_128802', 'TIP3_129561'], 'TIP3_129288': ['TIP3_127740', 'TIP3_130149'], 'TIP3_127269': ['ASN_C_373', 'ASP_M_79', 'TIP3_127251', 'TIP3_128487', 'TIP3_129465'], 'TIP3_127320': ['TIP3_127737', 'TIP3_129771', 'TIP3_130116', 'TIP3_127836'], 'TIP3_129576': ['TIP3_127710', 'TIP3_127911', 'TIP3_130140'], 'TIP3_127911': ['TIP3_127710', 'TIP3_128415', 'TIP3_129024'], 'TIP3_128295': ['SER_I_38'], 'TIP3_129759': ['TIP3_128880'], 'TIP3_128937': ['TIP3_128232'], 'TRP_B_78': ['TIP3_128376'], 'TIP3_47673': ['TIP3_47889'], 'THR_D_56': ['TIP3_47898'], 'TIP3_127683': ['TYR_A_235', 'SER_D_262', 'TIP3_127335'], 'TIP3_47472': ['TIP3_47496', 'TIP3_47487'], 'TIP3_127497': ['TIP3_128358', 'TIP3_127815', 'TIP3_128970'], 'TIP3_128283': ['GLU_B_235'], 'TRP_C_291': ['TIP3_128490'], 'TIP3_128445': ['GLU_C_308', 'TIP3_127800', 'TIP3_129933'], 'TIP3_129366': ['TIP3_47937', 'TIP3_127212', 'TIP3_128238'], 'TIP3_129627': ['TIP3_128145', 'TIP3_130062', 'TIP3_128544', 'TIP3_129717'], 'TIP3_129921': ['TIP3_128490'], 'ARG_B_7': ['TIP3_129519'], 'TYR_B_226': ['TIP3_129687'], 'TIP3_129876': ['SER_B_169'], 'TIP3_128799': ['TIP3_129162', 'SER_B_419', 'GLU_M_179'], 'ARG_D_128': ['TIP3_47832', 'TIP3_127155'], 'TIP3_127446': ['TIP3_47922'], 'TIP3_128565': ['TIP3_127254', 'TIP3_127353', 'TIP3_127788', 'TIP3_128691'], 'SER_A_232': ['TIP3_128790'], 'TIP3_128967': ['TIP3_128520'], 'TIP3_127623': ['TIP3_128988', 'TIP3_129924'], 'TIP3_127287': ['ASP_A_59', 'TIP3_129360'], 'TIP3_129360': ['ASN_A_108', 'ASP_A_59'], 'TIP3_47940': ['TIP3_127986'], 'TIP3_128079': ['ASP_D_297', 'TIP3_128007'], 'SER_C_330': ['TIP3_129507'], 'SER_M_150': ['TIP3_127515', 'TIP3_129183', 'TIP3_129399'], 'TIP3_47811': ['TYR_A_254'], 'TIP3_127470': ['GLU_D_343'], 'TIP3_127230': ['TIP3_128268', 'TIP3_127575', 'TIP3_128595', 'TIP3_129942'], 'TIP3_128928': ['GLU_A_329', 'TIP3_127677', 'TIP3_127848', 'TIP3_127311'], 'TIP3_47817': ['TIP3_47880'], 'TIP3_130017': ['TIP3_128280', 'TIP3_130035'], 'ASN_A_181': ['TIP3_47478'], 'TIP3_47859': ['TIP3_129150', 'ASP_D_25'], 'TIP3_128076': ['GLU_A_65', 'TYR_M_151'], 'TIP3_127596': ['GLU_B_266', 'TIP3_128697', 'TIP3_128406', 'TIP3_130011'], 'TIP3_128601': ['TIP3_129225', 'TIP3_129996'], 'TIP3_127590': ['TIP3_129306'], 'TIP3_128238': ['TIP3_127791', 'TIP3_127212', 'TIP3_129366'], 'TIP3_129003': ['ASN_K_37', 'TIP3_47829', 'ASP_D_297', 'TIP3_127854'], 'TIP3_129915': ['TIP3_128139'], 'TIP3_127998': ['GLU_D_323', 'TIP3_47646', 'TIP3_128397', 'TIP3_129501'], 'TIP3_127206': ['TIP3_128142', 'TIP3_127776'], 'SER_P_39': ['TIP3_127860'], 'TIP3_128424': ['TIP3_127383', 'TIP3_128589'], 'TYR_M_151': ['TIP3_128076', 'TIP3_129861'], 'TIP3_128223': ['ASP_M_222', 'TIP3_127938', 'GLU_D_310', 'TIP3_128034'], 'TIP3_127566': ['TIP3_128979', 'TIP3_129897', 'SER_I_38'], 'TIP3_128067': ['ASN_M_124', 'ASP_M_99', 'ASP_M_102'], 'ARG_C_447': ['TIP3_127527', 'TIP3_127401', 'TIP3_128109', 'TIP3_129549'], 'TIP3_128196': ['TIP3_129159', 'TIP3_127845', 'TIP3_129711'], 'TIP3_130113': ['TIP3_127170', 'TIP3_127332', 'TIP3_127311', 'TIP3_127833'], 'TIP3_47865': ['SER_A_221', 'SER_A_222'], 'TIP3_128802': ['SER_I_38', 'TIP3_128295', 'TIP3_129477', 'TIP3_129561'], 'TIP3_128583': ['TIP3_129429', 'TIP3_130065'], 'TIP3_47520': ['SER_A_134', 'TIP3_47451', 'ASN_D_220'], 'TIP3_127869': ['TYR_A_235', 'THR_K_15', 'GLU_N_25'], 'TIP3_128298': ['TIP3_127182'], 'TIP3_127899': ['TIP3_47847', 'TIP3_128784', 'TIP3_129489'], 'TIP3_128256': ['GLU_C_464', 'TIP3_127689', 'TIP3_129450', 'TIP3_127308'], 'ASN_P_49': ['TIP3_127653', 'TIP3_128925'], 'TIP3_129312': ['TIP3_130125'], 'TIP3_129927': ['TIP3_129963'], 'TIP3_127908': ['ASN_D_350', 'TIP3_47913'], 'ASN_K_37': ['TIP3_129003'], 'TIP3_128940': ['TIP3_129996', 'TIP3_128601'], 'SER_A_177': ['TIP3_47601'], 'TIP3_129339': ['TIP3_47901'], 'TIP3_47847': ['TIP3_127572'], 'HIS_C_444': ['TIP3_127527'], 'HIS_C_56': ['TIP3_47775'], 'TIP3_129687': ['TIP3_127296', 'TIP3_129012', 'TIP3_130008'], 'TIP3_128964': ['TIP3_127227', 'TIP3_128742', 'TIP3_127128', 'TIP3_128235'], 'TIP3_47937': ['ASP_O_96', 'TIP3_128622', 'TIP3_128949'], 'TIP3_47448': ['TIP3_47439', 'TIP3_47529'], 'TIP3_129099': ['ASN_M_155', 'ASP_O_96', 'TIP3_128622'], 'TIP3_128010': ['TIP3_129738'], 'TIP3_128640': ['TIP3_128664', 'TIP3_129033', 'TIP3_129633', 'ASN_A_267'], 'TIP3_130083': ['TIP3_127584', 'TIP3_129903'], 'ARG_C_197': ['TIP3_127851'], 'TIP3_128568': ['THR_P_46'], 'LYS_D_23': ['TIP3_130101'], 'THR_P_56': ['TIP3_128310'], 'LYS_B_308': ['TIP3_127494', 'TIP3_128697', 'TIP3_130011'], 'TYR_A_237': ['TIP3_129723'], 'TIP3_129414': ['ASP_C_360', 'TIP3_127923', 'TIP3_127389', 'TIP3_128019', 'TIP3_129591'], 'TIP3_129438': ['GLU_G_17'], 'TIP3_127992': ['TIP3_130113'], 'TIP3_128289': ['THR_C_188', 'TIP3_127845', 'TIP3_129711'], 'TIP3_128952': ['TIP3_128247', 'GLU_B_121'], 'TIP3_128139': ['TIP3_128613'], 'TIP3_129474': ['TIP3_127674', 'TIP3_128313', 'TIP3_130020'], 'TIP3_130062': ['GLU_N_25', 'TIP3_129573', 'ASN_K_13'], 'TIP3_129300': ['ASP_B_49'], 'TIP3_128163': ['TIP3_47589'], 'TIP3_129495': ['TIP3_128046', 'TIP3_129819', 'THR_C_305'], 'TIP3_47739': ['TIP3_129696'], 'TIP3_129159': ['SER_C_299', 'TYR_C_395', 'GLU_C_300', 'TIP3_127749', 'TIP3_127845'], 'THR_D_243': ['TIP3_128169', 'TIP3_128640', 'TIP3_128664'], 'TIP3_129888': ['GLU_K_11'], 'TIP3_129417': ['TIP3_128634'], 'ARG_N_28': ['TIP3_128121', 'TIP3_129810', 'TIP3_128484'], 'TYR_D_59': ['TIP3_129180'], 'LYS_P_103': ['TIP3_128454', 'TIP3_129057', 'TIP3_127113', 'TIP3_128349', 'TIP3_129168'], 'TIP3_128106': ['ASP_M_169', 'TIP3_129462', 'TIP3_129702'], 'SER_A_268': ['TIP3_128703'], 'TIP3_129207': ['TIP3_129813', 'TIP3_128586'], 'TIP3_129939': ['TIP3_128571', 'TIP3_129021', 'SER_P_51'], 'ARG_K_14': ['TIP3_127839', 'TIP3_128544', 'TIP3_129627'], 'TIP3_128520': ['TIP3_129612', 'TIP3_127194'], 'TIP3_129354': ['TIP3_127179'], 'SER_A_68': ['TIP3_47454'], 'TIP3_129285': ['TIP3_128298', 'TIP3_128334'], 'TIP3_127140': ['TIP3_128910'], 'TIP3_47853': ['TIP3_47817', 'TIP3_47838', 'TIP3_47877'], 'TIP3_128697': ['GLU_B_266', 'TIP3_127596', 'TIP3_128610', 'TIP3_130011'], 'TIP3_130065': ['TIP3_127686', 'TIP3_129876', 'TIP3_127110', 'TIP3_129954'], 'TIP3_128373': ['TIP3_127158'], 'TIP3_129228': ['TIP3_127326', 'TIP3_130137'], 'SER_D_57': ['TIP3_47862'], 'THR_C_255': ['TIP3_129237'], 'TIP3_129831': ['THR_D_248', 'TIP3_129045', 'TIP3_127308', 'TIP3_128256'], 'TIP3_128901': ['TIP3_129543', 'TIP3_129720'], 'TIP3_128469': ['HIS_P_118', 'GLU_P_122', 'TIP3_127449'], 'TIP3_47508': ['TIP3_47514'], 'THR_D_316': ['TIP3_47886'], 'SER_L_31': ['TIP3_127506', 'TIP3_128205'], 'TIP3_47706': ['TIP3_129639'], 'TIP3_127866': ['TIP3_128331'], 'TIP3_127806': ['THR_F_17', 'TIP3_130017', 'TIP3_130035'], 'TIP3_127452': ['TIP3_127665'], 'TIP3_127410': ['TIP3_127305', 'TIP3_127656', 'TIP3_129885'], 'TIP3_129510': ['TIP3_128106', 'TIP3_129702'], 'LYS_M_123': ['TIP3_129507', 'TIP3_128067'], 'TIP3_127305': ['TIP3_127410', 'TIP3_127656', 'TIP3_129885', 'TIP3_127644'], 'TIP3_128544': ['GLU_L_30', 'TIP3_127839', 'TIP3_128145', 'TIP3_129717'], 'TIP3_127248': ['ASP_J_19'], 'TIP3_129498': ['TIP3_128775', 'TIP3_129462'], 'HIS_A_337': ['TIP3_47598', 'TIP3_129516'], 'TIP3_129258': ['TIP3_128568'], 'TIP3_129012': ['ASP_B_134', 'TIP3_129687', 'TIP3_130008'], 'TIP3_127824': ['THR_E_5', 'TIP3_129387', 'THR_E_4'], 'TIP3_128913': ['TIP3_129159', 'TIP3_127128'], 'TIP3_127602': ['TIP3_128262', 'TIP3_128355', 'TIP3_127566', 'TIP3_129678'], 'TRP_B_450': ['TIP3_47613'], 'TIP3_127959': ['TIP3_127866'], 'TIP3_129786': ['SER_E_16'], 'TIP3_47523': ['SER_A_221'], 'TRP_B_5': ['TIP3_127623'], 'TIP3_128013': ['SER_B_278', 'TIP3_129483'], 'TIP3_128745': ['TIP3_129027'], 'TIP3_130146': ['TIP3_129144'], 'TIP3_127428': ['TIP3_128103', 'TIP3_129891'], 'TIP3_47604': ['THR_A_316', 'TIP3_129009'], 'ASN_A_87': ['TIP3_47514'], 'TYR_D_141': ['TIP3_128157'], 'TIP3_128862': ['TIP3_47724', 'SER_C_421'], 'TIP3_129558': ['TIP3_47676', 'HIS_B_343', 'GLU_B_428', 'TIP3_128853'], 'TYR_N_6': ['TIP3_127944'], 'TIP3_127509': ['TIP3_127980', 'ASP_D_225'], 'TIP3_130077': ['GLU_M_74', 'TIP3_129081'], 'TIP3_47652': ['TIP3_127350'], 'TIP3_127275': ['TIP3_127479'], 'HIS_C_132': ['TIP3_47742'], 'ARG_C_370': ['TIP3_129333', 'TIP3_129351'], 'TIP3_128985': ['ASP_B_46'], 'ARG_B_220': ['TIP3_127803', 'TIP3_129438', 'TIP3_129012'], 'TIP3_47898': ['THR_D_56', 'GLU_D_69'], 'TIP3_127815': ['TIP3_127497', 'TIP3_127947', 'TIP3_128970'], 'TIP3_127200': ['TYR_P_137', 'TIP3_127344', 'TIP3_129522', 'TIP3_127518', 'TIP3_129675'], 'TIP3_128778': ['SER_M_77'], 'TIP3_130053': ['TIP3_128553', 'TIP3_129303', 'TIP3_127284', 'TIP3_129246'], 'TIP3_127674': ['TIP3_127302', 'TIP3_128313', 'TIP3_129327', 'TIP3_129474'], 'TIP3_129435': ['TIP3_129714'], 'TIP3_127356': ['ASP_B_15', 'TIP3_128247'], 'TRP_J_39': ['TIP3_128400', 'TIP3_128619'], 'ARG_C_320': ['TIP3_128571', 'TIP3_129939'], 'TIP3_47733': ['TIP3_47754'], 'ARG_B_347': ['TIP3_127830'], 'LYS_D_317': ['TIP3_47559', 'TIP3_47562', 'TIP3_129006'], 'TIP3_47883': ['THR_F_17', 'GLU_E_7'], 'TIP3_128175': ['TIP3_129453', 'TIP3_128523', 'TIP3_129585'], 'TIP3_127803': ['TIP3_47667', 'TIP3_129438'], 'TIP3_127488': ['TIP3_127971'], 'TIP3_127212': ['TIP3_127218', 'TIP3_127791', 'TIP3_128238', 'TIP3_129393'], 'TIP3_130101': ['GLU_D_131'], 'TIP3_130140': ['TIP3_127911', 'TIP3_129024', 'TIP3_127710'], 'TIP3_129813': ['TYR_E_56'], 'TIP3_128367': ['TIP3_128733', 'TIP3_128370'], 'TIP3_127506': ['TIP3_127536', 'TIP3_129630', 'SER_L_31', 'TIP3_128205'], 'TIP3_127386': ['TIP3_127959', 'TIP3_128331', 'TIP3_128148'], 'TIP3_129918': ['SER_A_268', 'TIP3_129201'], 'TIP3_128970': ['TIP3_127497', 'TIP3_128358'], 'TIP3_128529': ['TIP3_127362', 'TIP3_127656', 'TIP3_128676'], 'TIP3_129024': ['TIP3_130140', 'ASN_A_247'], 'TIP3_128352': ['TIP3_127704'], 'ARG_A_27': ['TIP3_127254', 'TIP3_127353', 'TIP3_128304'], 'ASN_O_11': ['TIP3_47928', 'TIP3_129411'], 'TIP3_127152': ['ASP_A_103', 'TIP3_129951', 'TIP3_129972'], 'TIP3_128058': ['TIP3_127566', 'TIP3_127602', 'TIP3_128979', 'TIP3_129678'], 'TIP3_47556': ['GLU_A_189', 'TIP3_47460', 'TIP3_47541', 'ASP_A_170', 'TIP3_47535', 'TIP3_47571'], 'LYS_T_29': ['TIP3_129066'], 'TIP3_47553': ['GLU_A_189', 'TIP3_47541', 'TYR_A_161', 'HIS_A_190', 'TIP3_127197'], 'SER_E_39': ['TIP3_127668'], 'ASN_D_250': ['TIP3_127608'], 'TIP3_127479': ['TIP3_128253'], 'TIP3_128904': ['TIP3_127335', 'TIP3_127608', 'THR_K_15', 'TIP3_129453'], 'TIP3_127113': ['GLU_C_83', 'TIP3_128964', 'TIP3_129168', 'TIP3_129843'], 'TIP3_47679': ['TIP3_127899', 'TIP3_129489', 'GLU_D_323', 'TYR_M_168'], 'TIP3_130167': ['TIP3_128907'], 'TRP_A_32': ['TIP3_127119', 'TIP3_128661'], 'TIP3_127812': ['GLU_D_302', 'TIP3_128007', 'TIP3_129501', 'ASP_D_297', 'TIP3_128079'], 'THR_M_75': ['TIP3_127194'], 'TIP3_127539': ['ASP_C_460'], 'ARG_O_39': ['TIP3_129342', 'TIP3_129798'], 'TIP3_128229': ['GLU_C_138'], 'TIP3_47745': ['SER_C_424'], 'TIP3_127947': ['ASN_D_250', 'TIP3_127254', 'TIP3_128565'], 'TIP3_47922': ['TIP3_127446'], 'TIP3_127347': ['TIP3_127812', 'TIP3_128397', 'ASP_D_297', 'TIP3_128007', 'TIP3_128079', 'TIP3_128451'], 'TIP3_127689': ['TIP3_128256', 'TIP3_129450'], 'TIP3_128880': ['GLU_A_231', 'TIP3_128484'], 'TIP3_129402': ['TIP3_129063'], 'TIP3_47808': ['GLU_D_96'], 'TYR_A_235': ['TIP3_129573'], 'TIP3_127557': ['TIP3_127458', 'TIP3_129654'], 'THR_D_231': ['TIP3_128274'], 'TIP3_127917': ['ASP_B_276', 'TIP3_127143', 'TIP3_129000'], 'TIP3_127599': ['TIP3_129471'], 'TIP3_128148': ['TIP3_127386', 'TIP3_128331', 'TIP3_128796', 'TIP3_129768'], 'TIP3_128172': ['TIP3_129960'], 'ASN_D_318': ['TIP3_47601', 'TIP3_47835'], 'TIP3_127944': ['TIP3_129324', 'TIP3_127914', 'TIP3_128409'], 'TIP3_129522': ['TIP3_129297', 'TIP3_127338', 'TIP3_127677'], 'TIP3_128262': ['TIP3_128355', 'TIP3_129870', 'TIP3_127566', 'TIP3_127602', 'TIP3_129678'], 'TIP3_47943': ['ASP_M_224', 'TIP3_128208', 'TIP3_47919'], 'TIP3_128184': ['TIP3_128307', 'TIP3_127794', 'TIP3_129219'], 'TIP3_127965': ['TIP3_129600'], 'TIP3_128844': ['TIP3_129972'], 'TIP3_47946': ['TIP3_47949'], 'TIP3_128133': ['TIP3_128499', 'TIP3_129177'], 'TIP3_128649': ['SER_H_25'], 'TIP3_129102': ['ASP_D_25', 'TIP3_128673'], 'TIP3_47445': ['TIP3_47475'], 'THR_C_305': ['TIP3_128046'], 'TIP3_129441': ['TIP3_129198'], 'THR_B_262': ['TIP3_127974'], 'TYR_A_73': ['TIP3_129303'], 'TIP3_129525': ['TIP3_128337'], 'THR_C_295': ['TIP3_128709'], 'TIP3_128691': ['TIP3_127743', 'TIP3_127353', 'TIP3_128421'], 'TIP3_127692': ['TYR_D_59', 'TIP3_129180'], 'TIP3_127170': ['GLU_A_189', 'ASP_A_342', 'TIP3_127311'], 'HIS_B_26': ['TIP3_47661'], 'TIP3_130074': ['GLU_D_323', 'TIP3_47646', 'TIP3_130104'], 'ASN_O_31': ['TIP3_128082', 'TIP3_128580', 'TIP3_129234', 'TIP3_127230', 'TIP3_129855'], 'TIP3_127929': ['TIP3_127470', 'TIP3_128457', 'TIP3_127518', 'TIP3_129675'], 'TIP3_47583': ['TIP3_127638', 'ASP_A_319'], 'LYS_P_30': ['TIP3_128931', 'TIP3_127449', 'TIP3_129561'], 'TIP3_127974': ['TIP3_47652', 'TIP3_47703'], 'TIP3_128355': ['ASN_C_418', 'TIP3_128262', 'TIP3_129870'], 'ASN_D_72': ['TIP3_127176', 'TIP3_130122'], 'TIP3_127671': ['TIP3_128706', 'TIP3_128961'], 'CYS_A_144': ['TIP3_47451'], 'TIP3_127680': ['GLU_B_235', 'HIS_B_469', 'TIP3_129378'], 'TIP3_47568': ['ASN_A_303', 'TIP3_47544'], 'TIP3_47691': ['TIP3_128100', 'TIP3_128994', 'TIP3_128124'], 'TIP3_127227': ['TIP3_128004', 'TIP3_127128', 'TIP3_127701', 'TIP3_128913'], 'TIP3_47658': ['TIP3_47670', 'TIP3_47682'], 'TIP3_129846': ['ASP_A_103', 'TIP3_129951', 'TIP3_128553', 'TIP3_130053'], 'TIP3_127464': ['TIP3_127161', 'TIP3_128259', 'TIP3_128637', 'TIP3_129327', 'GLU_P_122'], 'TIP3_47862': ['GLU_D_69', 'TIP3_47844'], 'TIP3_129816': ['TIP3_128109', 'TIP3_128631', 'TIP3_129078', 'TIP3_129549', 'TIP3_127164']})\n"
     ]
    }
   ],
   "source": [
    "graph = defaultdict(list)\n",
    "for i in range(len(wat_con)):\n",
    "    addEdge(graph, wat_con['donor_residue'][i], wat_con['acceptor_residue'][i])\n",
    "print(graph)\n",
    "# print(graph['TIP3_127788'])"
   ]
  },
  {
   "cell_type": "markdown",
   "metadata": {},
   "source": [
    "## Find all the paths in the graph"
   ]
  },
  {
   "cell_type": "code",
   "execution_count": 45,
   "metadata": {
    "collapsed": false
   },
   "outputs": [
    {
     "name": "stdout",
     "output_type": "stream",
     "text": [
      "[['ASN_A_26', 'TIP3_47469'], ['ARG_A_27', 'TIP3_127254', 'TIP3_128304', 'ASP_C_473'], ['ARG_A_27', 'TIP3_127254', 'TIP3_128304', 'TIP3_129822', 'ASP_C_473'], ['ARG_A_27', 'TIP3_127254', 'TIP3_128304', 'TIP3_129822', 'TIP3_127497', 'TIP3_128358']]\n"
     ]
    }
   ],
   "source": [
    "visited = []\n",
    "path = []\n",
    "for res in range(len(wat_con)):\n",
    "    results = []\n",
    "    if wat_con['donor_residue'][res] not in visited and wat_con['donor_residue'][res][0:3] != 'TIP':\n",
    "        find_all_path(graph, wat_con['donor_residue'][res], [wat_con['donor_residue'][res]], results)\n",
    "        path = path + results\n",
    "        visited.append(wat_con['donor_residue'][res])\n",
    "    else:\n",
    "        continue\n",
    "print(path[0:4])"
   ]
  },
  {
   "cell_type": "markdown",
   "metadata": {},
   "source": [
    "## Count the water number between residues"
   ]
  },
  {
   "cell_type": "code",
   "execution_count": 48,
   "metadata": {
    "collapsed": false
   },
   "outputs": [
    {
     "name": "stdout",
     "output_type": "stream",
     "text": [
      "ARG_A_27 ASP_C_473 2\n"
     ]
    }
   ],
   "source": [
    "donor = []\n",
    "accept = []\n",
    "wat_num = []\n",
    "for item in path:\n",
    "    donor_column = [item[0]]\n",
    "    accpt_column = []\n",
    "    count = 0\n",
    "    for r in range(1, len(item)):\n",
    "        if item[r][0:3] != 'TIP':\n",
    "            donor_column.append(item[r])\n",
    "            accpt_column.append(item[r])\n",
    "            wat_num.append(count)\n",
    "            count = 0\n",
    "        else:\n",
    "\n",
    "            count += 1\n",
    "    if len(donor_column) > len(accpt_column):\n",
    "        donor_column.pop()\n",
    "    else:\n",
    "        accpt_column.pop()\n",
    "    donor.extend(donor_column)\n",
    "    accept.extend(accpt_column)\n",
    "print(donor[0], accept[0], wat_num[0])"
   ]
  },
  {
   "cell_type": "markdown",
   "metadata": {},
   "source": [
    "## Put all data in dataframe and count the frequency of the connection"
   ]
  },
  {
   "cell_type": "code",
   "execution_count": 49,
   "metadata": {
    "collapsed": true
   },
   "outputs": [],
   "source": [
    "direct_connection = pd.DataFrame(columns = ['donor_residue', 'acceptor_residue'])\n",
    "one_water_connection = pd.DataFrame(columns = ['donor_residue', 'acceptor_residue'])\n",
    "two_water_connection = pd.DataFrame(columns = ['donor_residue', 'acceptor_residue'])\n",
    "three_water_connection = pd.DataFrame(columns = ['donor_residue', 'acceptor_residue'])\n",
    "four_water_connection = pd.DataFrame(columns = ['donor_residue', 'acceptor_residue'])\n",
    "visited_1 = [] \n",
    "visited_2 = []\n",
    "visited_3 = []\n",
    "visited_4 = []"
   ]
  },
  {
   "cell_type": "code",
   "execution_count": 50,
   "metadata": {
    "collapsed": false
   },
   "outputs": [
    {
     "name": "stdout",
     "output_type": "stream",
     "text": [
      "  donor_residue acceptor_residue\n",
      "0      TRP_A_14         SER_H_25\n",
      "1      TRP_A_20         ASN_A_26\n",
      "2      TYR_A_29        GLU_A_132\n",
      "3      ARG_A_64         THR_M_75\n",
      "4      ASN_A_75         SER_A_68\n"
     ]
    }
   ],
   "source": [
    "res_wat_res = pd.DataFrame({'donor_residue': donor, 'acceptor_residue': accept, 'wat_num': wat_num})\n",
    "res_wat_res = res_wat_res.drop_duplicates()\n",
    "hb_network = pd.concat([dire_con, res_wat_res])\n",
    "hb_network.index = range(0, len(hb_network))\n",
    "for i in range(0, len(hb_network)):\n",
    "    if hb_network['wat_num'][i] == 0:\n",
    "        new_row = pd.Series({'donor_residue': hb_network['donor_residue'][i], 'acceptor_residue': hb_network['acceptor_residue'][i]})\n",
    "        direct_connection = direct_connection.append(new_row, ignore_index=True)\n",
    "\n",
    "    if hb_network['wat_num'][i] <= 1 and [hb_network['donor_residue'][i], hb_network['acceptor_residue'][i]] not in visited_1:\n",
    "        visited_1.append([hb_network['donor_residue'][i], hb_network['acceptor_residue'][i]])\n",
    "        new_row = pd.Series({'donor_residue': hb_network['donor_residue'][i], 'acceptor_residue': hb_network['acceptor_residue'][i]})\n",
    "        one_water_connection = one_water_connection.append(new_row, ignore_index=True)\n",
    "\n",
    "    if hb_network['wat_num'][i] <= 2 and [hb_network['donor_residue'][i], hb_network['acceptor_residue'][i]] not in visited_2:\n",
    "        visited_2.append([hb_network['donor_residue'][i], hb_network['acceptor_residue'][i]])\n",
    "        new_row = pd.Series({'donor_residue': hb_network['donor_residue'][i], 'acceptor_residue': hb_network['acceptor_residue'][i]})\n",
    "        two_water_connection = two_water_connection.append(new_row, ignore_index=True)\n",
    "\n",
    "    if hb_network['wat_num'][i] <= 3 and [hb_network['donor_residue'][i], hb_network['acceptor_residue'][i]] not in visited_3:\n",
    "        visited_3.append([hb_network['donor_residue'][i], hb_network['acceptor_residue'][i]])\n",
    "        new_row = pd.Series({'donor_residue': hb_network['donor_residue'][i], 'acceptor_residue': hb_network['acceptor_residue'][i]})\n",
    "        three_water_connection = three_water_connection.append(new_row, ignore_index=True)\n",
    "\n",
    "    if hb_network['wat_num'][i] <= 4 and [hb_network['donor_residue'][i], hb_network['acceptor_residue'][i]] not in visited_4:\n",
    "        visited_4.append([hb_network['donor_residue'][i], hb_network['acceptor_residue'][i]])\n",
    "        new_row = pd.Series({'donor_residue': hb_network['donor_residue'][i], 'acceptor_residue': hb_network['acceptor_residue'][i]})\n",
    "        four_water_connection = four_water_connection.append(new_row, ignore_index=True)\n",
    "print(direct_connection.head(5))"
   ]
  },
  {
   "cell_type": "markdown",
   "metadata": {},
   "source": [
    "## If we have more than one frame, we need to append all connection in one dataFrame"
   ]
  },
  {
   "cell_type": "code",
   "execution_count": 51,
   "metadata": {
    "collapsed": false
   },
   "outputs": [
    {
     "name": "stdout",
     "output_type": "stream",
     "text": [
      "  donor_residue acceptor_residue  Frequency\n",
      "0     ARG_A_136         ASP_H_27          1\n",
      "1     ARG_A_136        GLU_A_132          1\n",
      "2     ARG_A_136         TYR_A_29          1\n",
      "3     ARG_A_140        GLU_D_219          1\n",
      "4     ARG_A_257         ASP_D_25          1\n"
     ]
    }
   ],
   "source": [
    "Direct = pd.DataFrame(columns = ['donor_residue', 'acceptor_residue'])\n",
    "One_water = pd.DataFrame(columns = ['donor_residue', 'acceptor_residue'])\n",
    "Two_water = pd.DataFrame(columns = ['donor_residue', 'acceptor_residue'])\n",
    "Three_water = pd.DataFrame(columns = ['donor_residue', 'acceptor_residue'])\n",
    "Four_water = pd.DataFrame(columns = ['donor_residue', 'acceptor_residue'])\n",
    "# if we need to calculate more than one frame\n",
    "Direct = pd.concat([Direct, direct_connection])\n",
    "One_water = pd.concat([One_water, one_water_connection])\n",
    "Two_water = pd.concat([Two_water, two_water_connection])\n",
    "Three_water = pd.concat([Three_water, three_water_connection])\n",
    "Four_water = pd.concat([Four_water, four_water_connection])\n",
    "# calculate the frequency for all the connections\n",
    "Direct = Direct.groupby(['donor_residue', 'acceptor_residue']).size().reset_index(name='Frequency')\n",
    "One_water = One_water.groupby(['donor_residue', 'acceptor_residue']).size().reset_index(name='Frequency')\n",
    "Two_water = Two_water.groupby(['donor_residue', 'acceptor_residue']).size().reset_index(name='Frequency')\n",
    "Three_water = Three_water.groupby(['donor_residue', 'acceptor_residue']).size().reset_index(name='Frequency')\n",
    "Four_water = Four_water.groupby(['donor_residue', 'acceptor_residue']).size().reset_index(name='Frequency')\n",
    "print(Direct.head(5))"
   ]
  },
  {
   "cell_type": "code",
   "execution_count": null,
   "metadata": {
    "collapsed": true
   },
   "outputs": [],
   "source": []
  }
 ],
 "metadata": {
  "kernelspec": {
   "display_name": "Python [anaconda]",
   "language": "python",
   "name": "Python [anaconda]"
  },
  "language_info": {
   "codemirror_mode": {
    "name": "ipython",
    "version": 3
   },
   "file_extension": ".py",
   "mimetype": "text/x-python",
   "name": "python",
   "nbconvert_exporter": "python",
   "pygments_lexer": "ipython3",
   "version": "3.5.6"
  }
 },
 "nbformat": 4,
 "nbformat_minor": 0
}
